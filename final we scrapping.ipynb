{
 "cells": [
  {
   "cell_type": "markdown",
   "metadata": {},
   "source": [
    "1. Write a python program to display all the header tags from ‘en.wikipedia.org/wiki/Main_Page’."
   ]
  },
  {
   "cell_type": "code",
   "execution_count": 3,
   "metadata": {},
   "outputs": [
    {
     "data": {
      "text/plain": [
       "[\"From today's featured article\",\n",
       " 'Did you know\\xa0...',\n",
       " 'In the news',\n",
       " 'On this day',\n",
       " \"Today's featured picture\",\n",
       " 'Other areas of Wikipedia',\n",
       " \"Wikipedia's sister projects\",\n",
       " 'Wikipedia languages']"
      ]
     },
     "execution_count": 3,
     "metadata": {},
     "output_type": "execute_result"
    }
   ],
   "source": [
    "import  requests\n",
    "from  bs4 import BeautifulSoup\n",
    "\n",
    "url = requests.get('https://en.wikipedia.org/wiki/Main_Page')\n",
    "soup = BeautifulSoup(url.text, 'html.parser')\n",
    "header_list = soup.find_all(['h2'],class_=\"mp-h2\")\n",
    "#story.text\n",
    "header_list1=[]\n",
    "for i in header_list:\n",
    "   \n",
    "   header_list1.append(i.text)\n",
    "   \n",
    "header_list1"
   ]
  },
  {
   "cell_type": "markdown",
   "metadata": {},
   "source": [
    "2. Write a python program to display IMDB’s Top rated 100 movies’ data (i.e. Name, IMDB rating, Year of release) and save it in form of a CSV file."
   ]
  },
  {
   "cell_type": "code",
   "execution_count": 9,
   "metadata": {},
   "outputs": [
    {
     "name": "stdout",
     "output_type": "stream",
     "text": [
      "1 - The Shawshank Redemption (1994) - Starring: Frank Darabont (dir.), Tim Robbins, Morgan Freeman\n",
      "2 - The Godfather (1972) - Starring: Francis Ford Coppola (dir.), Marlon Brando, Al Pacino\n",
      "3 - The Godfather: Part II (1974) - Starring: Francis Ford Coppola (dir.), Al Pacino, Robert De Niro\n",
      "4 - The Dark Knight (2008) - Starring: Christopher Nolan (dir.), Christian Bale, Heath Ledger\n",
      "5 - 12 Angry Men (1957) - Starring: Sidney Lumet (dir.), Henry Fonda, Lee J. Cobb\n",
      "6 - Schindler's List (1993) - Starring: Steven Spielberg (dir.), Liam Neeson, Ralph Fiennes\n",
      "7 - The Lord of the Rings: The Return of the King (2003) - Starring: Peter Jackson (dir.), Elijah Wood, Viggo Mortensen\n",
      "8 - Pulp Fiction (1994) - Starring: Quentin Tarantino (dir.), John Travolta, Uma Thurman\n",
      "9 - Il buono, il brutto, il cattivo (1966) - Starring: Sergio Leone (dir.), Clint Eastwood, Eli Wallach\n",
      "1 -  The Lord of the Rings: The Fellowship of the Ring (2001) - Starring: Peter Jackson (dir.), Elijah Wood, Ian McKellen\n",
      "11 - Fight Club (1999) - Starring: David Fincher (dir.), Brad Pitt, Edward Norton\n",
      "12 - Forrest Gump (1994) - Starring: Robert Zemeckis (dir.), Tom Hanks, Robin Wright\n",
      "13 - Inception (2010) - Starring: Christopher Nolan (dir.), Leonardo DiCaprio, Joseph Gordon-Levitt\n",
      "14 - The Lord of the Rings: The Two Towers (2002) - Starring: Peter Jackson (dir.), Elijah Wood, Ian McKellen\n",
      "15 - Star Wars: Episode V - The Empire Strikes Back (1980) - Starring: Irvin Kershner (dir.), Mark Hamill, Harrison Ford\n",
      "16 - The Matrix (1999) - Starring: Lana Wachowski (dir.), Keanu Reeves, Laurence Fishburne\n",
      "17 - Goodfellas (1990) - Starring: Martin Scorsese (dir.), Robert De Niro, Ray Liotta\n",
      "18 - One Flew Over the Cuckoo's Nest (1975) - Starring: Milos Forman (dir.), Jack Nicholson, Louise Fletcher\n",
      "19 - Shichinin no samurai (1954) - Starring: Akira Kurosawa (dir.), Toshirô Mifune, Takashi Shimura\n",
      "20 - Se7en (1995) - Starring: David Fincher (dir.), Morgan Freeman, Brad Pitt\n",
      "21 - La vita è bella (1997) - Starring: Roberto Benigni (dir.), Roberto Benigni, Nicoletta Braschi\n",
      "22 - Cidade de Deus (2002) - Starring: Fernando Meirelles (dir.), Alexandre Rodrigues, Leandro Firmino\n",
      "23 - The Silence of the Lambs (1991) - Starring: Jonathan Demme (dir.), Jodie Foster, Anthony Hopkins\n",
      "24 - It's a Wonderful Life (1946) - Starring: Frank Capra (dir.), James Stewart, Donna Reed\n",
      "25 - Saving Private Ryan (1998) - Starring: Steven Spielberg (dir.), Tom Hanks, Matt Damon\n",
      "26 - Star Wars (1977) - Starring: George Lucas (dir.), Mark Hamill, Harrison Ford\n",
      "27 - The Green Mile (1999) - Starring: Frank Darabont (dir.), Tom Hanks, Michael Clarke Duncan\n",
      "28 - Sen to Chihiro no kamikakushi (2001) - Starring: Hayao Miyazaki (dir.), Daveigh Chase, Suzanne Pleshette\n",
      "29 - Interstellar (2014) - Starring: Christopher Nolan (dir.), Matthew McConaughey, Anne Hathaway\n",
      "30 - Gisaengchung (2019) - Starring: Bong Joon Ho (dir.), Kang-ho Song, Sun-kyun Lee\n",
      "31 - Léon (1994) - Starring: Luc Besson (dir.), Jean Reno, Gary Oldman\n",
      "32 - Seppuku (1962) - Starring: Masaki Kobayashi (dir.), Tatsuya Nakadai, Akira Ishihama\n",
      "33 - The Lion King (1994) - Starring: Roger Allers (dir.), Matthew Broderick, Jeremy Irons\n",
      "34 - The Usual Suspects (1995) - Starring: Bryan Singer (dir.), Kevin Spacey, Gabriel Byrne\n",
      "35 - The Pianist (2002) - Starring: Roman Polanski (dir.), Adrien Brody, Thomas Kretschmann\n",
      "36 - Terminator 2: Judgment Day (1991) - Starring: James Cameron (dir.), Arnold Schwarzenegger, Linda Hamilton\n",
      "37 - Back to the Future (1985) - Starring: Robert Zemeckis (dir.), Michael J. Fox, Christopher Lloyd\n",
      "38 - American History X (1998) - Starring: Tony Kaye (dir.), Edward Norton, Edward Furlong\n",
      "39 - Modern Times (1936) - Starring: Charles Chaplin (dir.), Charles Chaplin, Paulette Goddard\n",
      "40 - Gladiator (2000) - Starring: Ridley Scott (dir.), Russell Crowe, Joaquin Phoenix\n",
      "41 - Psycho (1960) - Starring: Alfred Hitchcock (dir.), Anthony Perkins, Janet Leigh\n",
      "42 - The Departed (2006) - Starring: Martin Scorsese (dir.), Leonardo DiCaprio, Matt Damon\n",
      "43 - City Lights (1931) - Starring: Charles Chaplin (dir.), Charles Chaplin, Virginia Cherrill\n",
      "44 - Whiplash (2014) - Starring: Damien Chazelle (dir.), Miles Teller, J.K. Simmons\n",
      "45 - The Intouchables (2011) - Starring: Olivier Nakache (dir.), François Cluzet, Omar Sy\n",
      "46 - Hotaru no haka (1988) - Starring: Isao Takahata (dir.), Tsutomu Tatsumi, Ayano Shiraishi\n",
      "47 - The Prestige (2006) - Starring: Christopher Nolan (dir.), Christian Bale, Hugh Jackman\n",
      "48 - Once Upon a Time in the West (1968) - Starring: Sergio Leone (dir.), Henry Fonda, Charles Bronson\n",
      "49 - Casablanca (1942) - Starring: Michael Curtiz (dir.), Humphrey Bogart, Ingrid Bergman\n",
      "50 - Nuovo Cinema Paradiso (1988) - Starring: Giuseppe Tornatore (dir.), Philippe Noiret, Enzo Cannavale\n",
      "51 - Rear Window (1954) - Starring: Alfred Hitchcock (dir.), James Stewart, Grace Kelly\n",
      "52 - Alien (1979) - Starring: Ridley Scott (dir.), Sigourney Weaver, Tom Skerritt\n",
      "53 - Apocalypse Now (1979) - Starring: Francis Ford Coppola (dir.), Martin Sheen, Marlon Brando\n",
      "54 - Memento (2000) - Starring: Christopher Nolan (dir.), Guy Pearce, Carrie-Anne Moss\n",
      "55 - The Great Dictator (1940) - Starring: Charles Chaplin (dir.), Charles Chaplin, Paulette Goddard\n",
      "56 - Raiders of the Lost Ark (1981) - Starring: Steven Spielberg (dir.), Harrison Ford, Karen Allen\n",
      "57 - Django Unchained (2012) - Starring: Quentin Tarantino (dir.), Jamie Foxx, Christoph Waltz\n",
      "58 - The Lives of Others (2006) - Starring: Florian Henckel von Donnersmarck (dir.), Ulrich Mühe, Martina Gedeck\n",
      "59 - Paths of Glory (1957) - Starring: Stanley Kubrick (dir.), Kirk Douglas, Ralph Meeker\n",
      "60 - WALL·E (2008) - Starring: Andrew Stanton (dir.), Ben Burtt, Elissa Knight\n",
      "61 - Joker (2019) - Starring: Todd Phillips (dir.), Joaquin Phoenix, Robert De Niro\n",
      "62 - Hamilton (2020) - Starring: Thomas Kail (dir.), Lin-Manuel Miranda, Phillipa Soo\n",
      "63 - The Shining (1980) - Starring: Stanley Kubrick (dir.), Jack Nicholson, Shelley Duvall\n",
      "64 - Avengers: Infinity War (2018) - Starring: Anthony Russo (dir.), Robert Downey Jr., Chris Hemsworth\n",
      "65 - Sunset Blvd (1950) - Starring: Billy Wilder (dir.), William Holden, Gloria Swanson\n",
      "66 - Witness for the Prosecution (1957) - Starring: Billy Wilder (dir.), Tyrone Power, Marlene Dietrich\n",
      "67 - Spider-Man: Into the Spider-Verse (2018) - Starring: Bob Persichetti (dir.), Shameik Moore, Jake Johnson\n",
      "68 - Oldeuboi (2003) - Starring: Chan-wook Park (dir.), Choi Min-sik, Yoo Ji-Tae\n",
      "69 - Mononoke-hime (1997) - Starring: Hayao Miyazaki (dir.), Yôji Matsuda, Yuriko Ishida\n",
      "70 - Dr Strangelove or: How I Learned to Stop Worrying and Love the Bomb (1964) - Starring: Stanley Kubrick (dir.), Peter Sellers, George C. Scott\n",
      "71 - The Dark Knight Rises (2012) - Starring: Christopher Nolan (dir.), Christian Bale, Tom Hardy\n",
      "72 - Once Upon a Time in America (1984) - Starring: Sergio Leone (dir.), Robert De Niro, James Woods\n",
      "73 - Kimi no na wa (2016) - Starring: Makoto Shinkai (dir.), Ryûnosuke Kamiki, Mone Kamishiraishi\n",
      "74 - Coco (2017) - Starring: Lee Unkrich (dir.), Anthony Gonzalez, Gael García Bernal\n",
      "75 - Aliens (1986) - Starring: James Cameron (dir.), Sigourney Weaver, Michael Biehn\n",
      "76 - Avengers: Endgame (2019) - Starring: Anthony Russo (dir.), Robert Downey Jr., Chris Evans\n",
      "77 - Capharnaüm (2018) - Starring: Nadine Labaki (dir.), Zain Al Rafeea, Yordanos Shiferaw\n",
      "78 - American Beauty (1999) - Starring: Sam Mendes (dir.), Kevin Spacey, Annette Bening\n",
      "79 - Braveheart (1995) - Starring: Mel Gibson (dir.), Mel Gibson, Sophie Marceau\n",
      "80 - Tengoku to jigoku (1963) - Starring: Akira Kurosawa (dir.), Toshirô Mifune, Yutaka Sada\n",
      "81 - Toy Story (1995) - Starring: John Lasseter (dir.), Tom Hanks, Tim Allen\n",
      "82 - 3 Idiots (2009) - Starring: Rajkumar Hirani (dir.), Aamir Khan, Madhavan\n",
      "83 - Das Boot (1981) - Starring: Wolfgang Petersen (dir.), Jürgen Prochnow, Herbert Grönemeyer\n",
      "84 - Amadeus (1984) - Starring: Milos Forman (dir.), F. Murray Abraham, Tom Hulce\n",
      "85 - Inglourious Basterds (2009) - Starring: Quentin Tarantino (dir.), Brad Pitt, Diane Kruger\n",
      "86 - Good Will Hunting (1997) - Starring: Gus Van Sant (dir.), Robin Williams, Matt Damon\n",
      "87 - Star Wars: Episode VI - Return of the Jedi (1983) - Starring: Richard Marquand (dir.), Mark Hamill, Harrison Ford\n",
      "88 - Taare Zameen Par (2007) - Starring: Aamir Khan (dir.), Darsheel Safary, Aamir Khan\n",
      "89 - Reservoir Dogs (1992) - Starring: Quentin Tarantino (dir.), Harvey Keitel, Tim Roth\n",
      "90 - 2001: A Space Odyssey (1968) - Starring: Stanley Kubrick (dir.), Keir Dullea, Gary Lockwood\n",
      "91 - Requiem for a Dream (2000) - Starring: Darren Aronofsky (dir.), Ellen Burstyn, Jared Leto\n",
      "92 - Jagten (2012) - Starring: Thomas Vinterberg (dir.), Mads Mikkelsen, Thomas Bo Larsen\n",
      "93 - Vertigo (1958) - Starring: Alfred Hitchcock (dir.), James Stewart, Kim Novak\n",
      "94 - M - Eine Stadt sucht einen Mörder (1931) - Starring: Fritz Lang (dir.), Peter Lorre, Ellen Widmann\n",
      "95 - Eternal Sunshine of the Spotless Mind (2004) - Starring: Michel Gondry (dir.), Jim Carrey, Kate Winslet\n",
      "96 - Citizen Kane (1941) - Starring: Orson Welles (dir.), Orson Welles, Joseph Cotten\n",
      "97 - Dangal (2016) - Starring: Nitesh Tiwari (dir.), Aamir Khan, Sakshi Tanwar\n",
      "98 - Idi i smotri (1985) - Starring: Elem Klimov (dir.), Aleksey Kravchenko, Olga Mironova\n",
      "99 - The Kid (1921) - Starring: Charles Chaplin (dir.), Charles Chaplin, Edna Purviance\n",
      "10 -  Singin' in the Rain (1952) - Starring: Stanley Donen (dir.), Gene Kelly, Donald O'Connor\n"
     ]
    }
   ],
   "source": [
    "from bs4 import BeautifulSoup\n",
    "import requests\n",
    "import re\n",
    "\n",
    "# Download IMDB's Top 100 data\n",
    "url = 'http://www.imdb.com/chart/top'\n",
    "response = requests.get(url)\n",
    "soup = BeautifulSoup(response.text, 'lxml')\n",
    "\n",
    "movies = soup.select('td.titleColumn')\n",
    "links = [a.attrs.get('href') for a in soup.select('td.titleColumn a')]\n",
    "crew = [a.attrs.get('title') for a in soup.select('td.titleColumn a')]\n",
    "ratings = [b.attrs.get('data-value') for b in soup.select('td.posterColumn span[name=ir]')]\n",
    "votes = [b.attrs.get('data-value') for b in soup.select('td.ratingColumn strong')]\n",
    "\n",
    "imdb = []\n",
    "\n",
    "print(\"*********************Top rated 100 movies******************************\")\n",
    "# Store each item into dictionary (data), then put those into a list (imdb)\n",
    "for index in range(0, 100):\n",
    "    # Seperate movie into: 'place', 'title', 'year'\n",
    "    movie_string = movies[index].get_text()\n",
    "    movie = (' '.join(movie_string.split()).replace('.', ''))\n",
    "    movie_title = movie[len(str(index))+1:-7]\n",
    "    year = re.search('\\((.*?)\\)', movie_string).group(1)\n",
    "    place = movie[:len(str(index))-(len(movie))]\n",
    "    data = {\"movie_title\": movie_title,\n",
    "            \"year\": year,\n",
    "            \"place\": place,\n",
    "            \"star_cast\": crew[index],\n",
    "            \"rating\": ratings[index],\n",
    "            \"vote\": votes[index],\n",
    "            \"link\": links[index]}\n",
    "    imdb.append(data)\n",
    "\n",
    "for item in imdb:\n",
    "    print(item['place'], '-', item['movie_title'], '('+item['year']+') -', 'Starring:', item['star_cast'])\n",
    "  \n",
    "\n",
    " "
   ]
  },
  {
   "cell_type": "markdown",
   "metadata": {},
   "source": [
    "3. Write a python program to display IMDB’s Top rated 100 Indian movies’ data (i.e. Name, IMDB rating, Year of release) and save it in form of a CSV file."
   ]
  },
  {
   "cell_type": "code",
   "execution_count": 11,
   "metadata": {},
   "outputs": [
    {
     "name": "stdout",
     "output_type": "stream",
     "text": [
      "*********************top 100 indain Movie******************************\n",
      "1 - Pather Panchali (1955) - Starring: Satyajit Ray (dir.), Kanu Bannerjee, Karuna Bannerjee\n",
      "2 - Gol Maal (1979) - Starring: Hrishikesh Mukherjee (dir.), Amol Palekar, Bindiya Goswami\n",
      "3 - Nayakan (1987) - Starring: Mani Ratnam (dir.), Kamal Haasan, Saranya Ponvannan\n",
      "4 - Anbe Sivam (2003) - Starring: Sundar C. (dir.), Kamal Haasan, Madhavan\n",
      "5 - Apur Sansar (1959) - Starring: Satyajit Ray (dir.), Soumitra Chatterjee, Sharmila Tagore\n",
      "6 - Pariyerum Perumal (2018) - Starring: Mari Selvaraj (dir.), Kathir, Anandhi\n",
      "7 - C/o Kancharapalem (2018) - Starring: Venkatesh Maha (dir.), Radha Bessy, Subba Rao Vepada\n",
      "8 - Natsamrat (2016) - Starring: Mahesh Manjrekar (dir.), Nana Patekar, Medha Manjrekar\n",
      "9 - Drishyam 2 (2021) - Starring: Jeethu Joseph (dir.), Mohanlal, Meena\n",
      "1 -  Kireedam (1989) - Starring: Sibi Malayil (dir.), Mohanlal, Thilakan\n",
      "11 - Manichitrathazhu (1993) - Starring: Fazil (dir.), Mohanlal, Shobana\n",
      "12 - Black Friday (2004) - Starring: Anurag Kashyap (dir.), Kay Kay Menon, Pawan Malhotra\n",
      "13 - Thevar Magan (1992) - Starring: Bharathan (dir.), Kamal Haasan, Shivaji Ganesan\n",
      "14 - 96 (2018) - Starring: C. Prem Kumar (dir.), Vijay Sethupathi, Adithya Bhaskar\n",
      "15 - Kumbalangi Nights (2019) - Starring: Madhu C. Narayanan (dir.), Shane Nigam, Soubin Shahir\n",
      "16 - 3 Idiots (2009) - Starring: Rajkumar Hirani (dir.), Aamir Khan, Madhavan\n",
      "17 - Taare Zameen Par (2007) - Starring: Aamir Khan (dir.), Darsheel Safary, Aamir Khan\n",
      "18 - Visaaranai (2015) - Starring: Vetrimaaran (dir.), Dinesh, Samuthirakani\n",
      "19 - Dangal (2016) - Starring: Nitesh Tiwari (dir.), Aamir Khan, Sakshi Tanwar\n",
      "20 - Ratsasan (2018) - Starring: Ram Kumar (dir.), Vishnu Vishal, Amala Paul\n",
      "21 - Thalapathi (1991) - Starring: Mani Ratnam (dir.), Rajinikanth, Mammootty\n",
      "22 - Aparajito (1956) - Starring: Satyajit Ray (dir.), Pinaki Sengupta, Smaran Ghosal\n",
      "23 - Jaane Bhi Do Yaaro (1983) - Starring: Kundan Shah (dir.), Naseeruddin Shah, Ravi Baswani\n",
      "24 - Pyaasa (1957) - Starring: Guru Dutt (dir.), Guru Dutt, Waheeda Rehman\n",
      "25 - Guide (1965) - Starring: Vijay Anand (dir.), Dev Anand, Waheeda Rehman\n",
      "26 - Jersey (2019) - Starring: Gowtam Tinnanuri (dir.), Nani, Shraddha Srinath\n",
      "27 - Kannathil Muthamittal (2002) - Starring: Mani Ratnam (dir.), Madhavan, Simran\n",
      "28 - Chupke Chupke (1975) - Starring: Hrishikesh Mukherjee (dir.), Dharmendra, Sharmila Tagore\n",
      "29 - Asuran (2019) - Starring: Vetrimaaran (dir.), Dhanush, Manju Warrier\n",
      "30 - Kaithi (2019) - Starring: Lokesh Kanagaraj (dir.), Karthi, Narain\n",
      "31 - Thani Oruvan (2015) - Starring: Mohan Raja (dir.), Jayam Ravi, Arvind Swamy\n",
      "32 - Anand (1971) - Starring: Hrishikesh Mukherjee (dir.), Rajesh Khanna, Amitabh Bachchan\n",
      "33 - Vada Chennai (2018) - Starring: Vetrimaaran (dir.), Dhanush, Ameer Sultan\n",
      "34 - Peranbu (2018) - Starring: Ram (dir.), Mammootty, Sadhana\n",
      "35 - Drishyam (2013) - Starring: Jeethu Joseph (dir.), Mohanlal, Meena\n",
      "36 - Vikram Vedha (2017) - Starring: Gayatri (dir.), Madhavan, Vijay Sethupathi\n",
      "37 - Iruvar (1997) - Starring: Mani Ratnam (dir.), Mohanlal, Prakash Raj\n",
      "38 - Soorarai Pottru (2020) - Starring: Sudha Kongara (dir.), Suriya, Madhavan\n",
      "39 - Aruvi (2016) - Starring: Arun Prabhu Purushothaman (dir.), Aditi Balan, Padmashri Mohammad Ali\n",
      "40 - Khosla Ka Ghosla! (2006) - Starring: Dibakar Banerjee (dir.), Anupam Kher, Boman Irani\n",
      "41 - Super Deluxe (2019) - Starring: Thiagarajan Kumararaja (dir.), Vijay Sethupathi, Samantha Akkineni\n",
      "42 - Agent Sai Srinivasa Athreya (2019) - Starring: Swaroop Rsj (dir.), Naveen Polishetty, Shruti Sharma\n",
      "43 - Tumbbad (2018) - Starring: Rahi Anil Barve (dir.), Sohum Shah, Jyoti Malshe\n",
      "44 - Mahanati (2018) - Starring: Nag Ashwin (dir.), Keerthy Suresh, Dulquer Salmaan\n",
      "45 - Andhadhun (2018) - Starring: Sriram Raghavan (dir.), Ayushmann Khurrana, Tabu\n",
      "46 - Kaakkaa Muttai (2014) - Starring: M. Manikandan (dir.), Ramesh, J. Vignesh\n",
      "47 - Premam (2015) - Starring: Alphonse Puthren (dir.), Nivin Pauly, Sai Pallavi\n",
      "48 - Satya (1998) - Starring: Ram Gopal Varma (dir.), J.D. Chakravarthi, Manoj Bajpayee\n",
      "49 - Shahid (2012) - Starring: Hansal Mehta (dir.), Rajkummar Rao, Prabhleen Sandhu\n",
      "50 - Anniyan (2005) - Starring: S. Shankar (dir.), Vikram, Sada\n",
      "51 - Dhuruvangal Pathinaaru (2016) - Starring: Karthick Naren (dir.), Rahman, Prakash Raghavan\n",
      "52 - Bangalore Days (2014) - Starring: Anjali Menon (dir.), Nazriya Nazim, Nivin Pauly\n",
      "53 - Mudhalvan (1999) - Starring: S. Shankar (dir.), Arjun Sarja, Manisha Koirala\n",
      "54 - Papanasam (2015) - Starring: Jeethu Joseph (dir.), Kamal Haasan, Gautami\n",
      "55 - Soodhu Kavvum (2013) - Starring: Nalan Kumarasamy (dir.), Vijay Sethupathi, Sanchita Shetty\n",
      "56 - Gangs of Wasseypur (2012) - Starring: Anurag Kashyap (dir.), Manoj Bajpayee, Richa Chadha\n",
      "57 - Jigarthanda (2014) - Starring: Karthik Subbaraj (dir.), Siddharth, Bobby Simha\n",
      "58 - Bhaag Milkha Bhaag (2013) - Starring: Rakeysh Omprakash Mehra (dir.), Farhan Akhtar, Sonam Kapoor\n",
      "59 - Sairat (2016) - Starring: Nagraj Manjule (dir.), Rinku Rajguru, Akash Thosar\n",
      "60 - Paan Singh Tomar (2012) - Starring: Tigmanshu Dhulia (dir.), Irrfan Khan, Mahie Gill\n",
      "61 - Sholay (1975) - Starring: Ramesh Sippy (dir.), Sanjeev Kumar, Dharmendra\n",
      "62 - Swades: We, the People (2004) - Starring: Ashutosh Gowariker (dir.), Shah Rukh Khan, Gayatri Joshi\n",
      "63 - Talvar (2015) - Starring: Meghna Gulzar (dir.), Irrfan Khan, Konkona Sen Sharma\n",
      "64 - Hera Pheri (2000) - Starring: Priyadarshan (dir.), Akshay Kumar, Sunil Shetty\n",
      "65 - Pithamagan (2003) - Starring: Bala (dir.), Vikram, Suriya\n",
      "66 - Charulata (1964) - Starring: Satyajit Ray (dir.), Soumitra Chatterjee, Madhabi Mukherjee\n",
      "67 - Drishyam (2015) - Starring: Nishikant Kamat (dir.), Ajay Devgn, Shriya Saran\n",
      "68 - Nil Battey Sannata (2015) - Starring: Ashwiny Iyer Tiwari (dir.), Swara Bhaskar, Ratna Pathak Shah\n",
      "69 - Chak De! India (2007) - Starring: Shimit Amin (dir.), Shah Rukh Khan, Vidya Malvade\n",
      "70 - Black (2005) - Starring: Sanjay Leela Bhansali (dir.), Amitabh Bachchan, Rani Mukerji\n",
      "71 - Mughal-E-Azam (1960) - Starring: K. Asif (dir.), Prithviraj Kapoor, Madhubala\n",
      "72 - Jo Jeeta Wohi Sikandar (1992) - Starring: Mansoor Khan (dir.), Aamir Khan, Ayesha Jhulka\n",
      "73 - Udaan (2010) - Starring: Vikramaditya Motwane (dir.), Rajat Barmecha, Ronit Roy\n",
      "74 - Ustad Hotel (2012) - Starring: Anwar Rasheed (dir.), Dulquer Salmaan, Thilakan\n",
      "75 - Zindagi Na Milegi Dobara (2011) - Starring: Zoya Akhtar (dir.), Hrithik Roshan, Farhan Akhtar\n",
      "76 - A Wednesday (2008) - Starring: Neeraj Pandey (dir.), Anupam Kher, Naseeruddin Shah\n",
      "77 - Article 15 (2019) - Starring: Anubhav Sinha (dir.), Ayushmann Khurrana, Nassar\n",
      "78 - Queen (2013) - Starring: Vikas Bahl (dir.), Kangana Ranaut, Rajkummar Rao\n",
      "79 - Rang De Basanti (2006) - Starring: Rakeysh Omprakash Mehra (dir.), Aamir Khan, Soha Ali Khan\n",
      "80 - Munna Bhai MBBS (2003) - Starring: Rajkumar Hirani (dir.), Sanjay Dutt, Arshad Warsi\n",
      "81 - Dil Chahta Hai (2001) - Starring: Farhan Akhtar (dir.), Aamir Khan, Saif Ali Khan\n",
      "82 - Sarfarosh (1999) - Starring: John Mathew Matthan (dir.), Aamir Khan, Naseeruddin Shah\n",
      "83 - Maheshinte Prathikaaram (2016) - Starring: Dileesh Pothan (dir.), Fahadh Faasil, Aparna Balamurali\n",
      "84 - Masaan (2015) - Starring: Neeraj Ghaywan (dir.), Richa Chadha, Sanjay Mishra\n",
      "85 - OMG: Oh My God! (2012) - Starring: Umesh Shukla (dir.), Paresh Rawal, Akshay Kumar\n",
      "86 - Andaz Apna Apna (1994) - Starring: Rajkumar Santoshi (dir.), Aamir Khan, Salman Khan\n",
      "87 - Roja (1992) - Starring: Mani Ratnam (dir.), Arvind Swamy, Madhoo\n",
      "88 - Alai Payuthey (2000) - Starring: Mani Ratnam (dir.), Madhavan, Shalini\n",
      "89 - Lagaan: Once Upon a Time in India (2001) - Starring: Ashutosh Gowariker (dir.), Aamir Khan, Raghuvir Yadav\n",
      "90 - Baasha (1995) - Starring: Suresh Krishna (dir.), Rajinikanth, Nagma\n",
      "91 - Theeran adhigaaram ondru (2017) - Starring: H. Vinoth (dir.), Karthi, Rakul Preet Singh\n",
      "92 - Kahaani (2012) - Starring: Sujoy Ghosh (dir.), Vidya Balan, Parambrata Chattopadhyay\n",
      "93 - PK (2014) - Starring: Rajkumar Hirani (dir.), Aamir Khan, Anushka Sharma\n",
      "94 - Lucia (2013) - Starring: Pawan Kumar (dir.), Sathish Neenasam, Sruthi Hariharan\n",
      "95 - Iqbal (2005) - Starring: Nagesh Kukunoor (dir.), Shreyas Talpade, Naseeruddin Shah\n",
      "96 - Uri: The Surgical Strike (2018) - Starring: Aditya Dhar (dir.), Vicky Kaushal, Paresh Rawal\n",
      "97 - The Legend of Bhagat Singh (2002) - Starring: Rajkumar Santoshi (dir.), Ajay Devgn, Sushant Singh\n",
      "98 - Barfi! (2012) - Starring: Anurag Basu (dir.), Ranbir Kapoor, Priyanka Chopra\n",
      "99 - Pink (2016) - Starring: Aniruddha Roy Chowdhury (dir.), Taapsee Pannu, Amitabh Bachchan\n",
      "10 -  Bommarillu (2006) - Starring: Bhaskar (dir.), Siddharth, Genelia D'Souza\n"
     ]
    }
   ],
   "source": [
    "from bs4 import BeautifulSoup\n",
    "import requests\n",
    "import re\n",
    "\n",
    "# Download IMDB's Top 100 data\n",
    "url = 'https://www.imdb.com/india/top-rated-indian-movies'\n",
    "response = requests.get(url)\n",
    "soup = BeautifulSoup(response.text, 'lxml')\n",
    "\n",
    "movies = soup.select('td.titleColumn')\n",
    "links = [a.attrs.get('href') for a in soup.select('td.titleColumn a')]\n",
    "crew = [a.attrs.get('title') for a in soup.select('td.titleColumn a')]\n",
    "ratings = [b.attrs.get('data-value') for b in soup.select('td.posterColumn span[name=ir]')]\n",
    "votes = [b.attrs.get('data-value') for b in soup.select('td.ratingColumn strong')]\n",
    "\n",
    "imdb = []\n",
    "\n",
    "print(\"*********************Top 100 indain Movies******************************\")\n",
    "# Store each item into dictionary (data), then put those into a list (imdb)\n",
    "for index in range(0, 100):\n",
    "    # Seperate movie into: 'place', 'title', 'year'\n",
    "    movie_string = movies[index].get_text()\n",
    "    movie = (' '.join(movie_string.split()).replace('.', ''))\n",
    "    movie_title = movie[len(str(index))+1:-7]\n",
    "    year = re.search('\\((.*?)\\)', movie_string).group(1)\n",
    "    place = movie[:len(str(index))-(len(movie))]\n",
    "    data = {\"movie_title\": movie_title,\n",
    "            \"year\": year,\n",
    "            \"place\": place,\n",
    "            \"star_cast\": crew[index],\n",
    "            \"rating\": ratings[index],\n",
    "            \"vote\": votes[index],\n",
    "            \"link\": links[index]}\n",
    "    imdb.append(data)\n",
    "\n",
    "for item in imdb:\n",
    "    print(item['place'], '-', item['movie_title'], '('+item['year']+') -', 'Starring:', item['star_cast'])\n",
    "  \n"
   ]
  },
  {
   "cell_type": "markdown",
   "metadata": {},
   "source": [
    "4.Write a python program to scrap book name, author name, genre and book review of any 5 books from ‘www.bookpage.com’"
   ]
  },
  {
   "cell_type": "code",
   "execution_count": 12,
   "metadata": {},
   "outputs": [
    {
     "name": "stdout",
     "output_type": "stream",
     "text": [
      "book name:\n",
      "Author name:\n",
      "Review:\n"
     ]
    },
    {
     "data": {
      "text/plain": [
       "[]"
      ]
     },
     "execution_count": 12,
     "metadata": {},
     "output_type": "execute_result"
    }
   ],
   "source": [
    "import  requests\n",
    "from  bs4 import BeautifulSoup\n",
    "\n",
    "url = requests.get('https://bookpage.com/reviews')\n",
    "soup = BeautifulSoup(url.text, 'html.parser')\n",
    "story = soup.find_all(['h4'],class_=\"italic\")\n",
    "story1=[]\n",
    "print(\"book name:\")\n",
    "for i in story:\n",
    "   story1.append(i.text.replace(\"\\n\",\" \"))\n",
    "story1 \n",
    "\n",
    "print(\"Author name:\")\n",
    "Author = soup.find_all(['p'],class_=\"sans bold\")\n",
    "Author1=[]\n",
    "for j in Author:\n",
    "   Author1.append(j.text.replace(\"\\n\",\" \"))\n",
    "Author1 \n",
    "\n",
    "\n",
    "print(\"Review:\")\n",
    "Review = soup.find_all(['div'],class_=\"article-body\")\n",
    "Review1=[]\n",
    "for i in Review:\n",
    "   Review1.append(i.text.replace(\"\\n\",\" \"))\n",
    "Review1\n",
    "\n",
    " "
   ]
  },
  {
   "cell_type": "code",
   "execution_count": null,
   "metadata": {},
   "outputs": [],
   "source": [
    "5. Write a python program to scrape cricket rankings from ‘www.icc-cricket.com’. You have to scrape:\n",
    "i) Top 10 ODI teams in men’s cricket along with the records for matches, points and rating.\n",
    "ii) Top 10 ODI Batsmen in men along with the records of their team and rating.\n",
    "iii) Top 10 ODI bowlers along with the records of their team and rating."
   ]
  },
  {
   "cell_type": "code",
   "execution_count": 13,
   "metadata": {},
   "outputs": [
    {
     "name": "stdout",
     "output_type": "stream",
     "text": [
      "top10 men team in ODI\n"
     ]
    },
    {
     "data": {
      "text/plain": [
       "[' Afghanistan ',\n",
       " ' Australia ',\n",
       " ' Bangladesh ',\n",
       " ' England ',\n",
       " ' India ',\n",
       " ' Ireland ',\n",
       " ' New Zealand ',\n",
       " ' Pakistan ',\n",
       " ' South Africa ',\n",
       " ' Sri Lanka ',\n",
       " ' West Indies ',\n",
       " ' Zimbabwe ']"
      ]
     },
     "execution_count": 13,
     "metadata": {},
     "output_type": "execute_result"
    }
   ],
   "source": [
    "#i) Top 10 ODI teams in men’s cricket along with the records for matches, points and rating.\n",
    "\n",
    "import  requests\n",
    "from  bs4 import BeautifulSoup\n",
    "\n",
    "\n",
    "url = requests.get('https://www.icc-cricket.com/teams/men')\n",
    "soup = BeautifulSoup(url.text, 'html.parser')\n",
    "\n",
    "\n",
    "story = soup.find_all(['h3'],class_=\"team-list__name\")\n",
    "\n",
    "print(\"top10 men team in ODI\")\n",
    "story1=[]\n",
    "\n",
    "for i in story:\n",
    "   story1.append(i.text)\n",
    "story1 "
   ]
  },
  {
   "cell_type": "code",
   "execution_count": 15,
   "metadata": {},
   "outputs": [
    {
     "name": "stdout",
     "output_type": "stream",
     "text": [
      "top10 women team in ODI\n"
     ]
    },
    {
     "data": {
      "text/plain": [
       "['   Pos  Team T   Matches M   Points P   Rating R      1   India IND  37 4,455                              120                                  2   New Zealand NZ  27 3,198 118   3   Australia AUS  31 3,498 113   4   England ENG  49 5,174 106   5   Pakistan PAK  26 2,328 90   6   South Africa SA  29 2,595 89   7   Sri Lanka SL  39 3,235 83   8   West Indies WI  31 2,501 81   9   Bangladesh BAN  23 1,169 51   10   Zimbabwe ZIM  11 315 29   ']"
      ]
     },
     "execution_count": 15,
     "metadata": {},
     "output_type": "execute_result"
    }
   ],
   "source": [
    "#ii) Top 10 ODI Batsmen in men along with the records of their team and rating.\n",
    "\n",
    "import  requests\n",
    "from  bs4 import BeautifulSoup\n",
    "\n",
    "url = requests.get('https://www.icc-cricket.com/rankings/mens/team-rankings/test')\n",
    "soup = BeautifulSoup(url.text, 'html.parser')\n",
    "#def Team:\n",
    "    \n",
    "story = soup.find_all(['table'],class_=\"table\")\n",
    "print(\"top10 women team in ODI\")\n",
    "\n",
    "story1=[]\n",
    "\n",
    "for i in story:\n",
    "     #print(\"\\n\")\n",
    "     story1.append(i.text.replace(\"\\n\",\" \"))\n",
    "story1 "
   ]
  },
  {
   "cell_type": "code",
   "execution_count": 20,
   "metadata": {},
   "outputs": [
    {
     "name": "stdout",
     "output_type": "stream",
     "text": [
      "top10 women team in ODI\n"
     ]
    },
    {
     "data": {
      "text/plain": [
       "['   Pos Player Team Rating                                          2             This player has moved down in the rankings since the previous rankings update    Virat Kohli    IND  857                                        3            Rohit Sharma    IND  825                                        4            Ross Taylor    NZ  801                                        5            Aaron Finch    AUS  791                                        6            Jonny Bairstow    ENG  785                                        7             This player has moved up in the rankings since the previous rankings update    Fakhar Zaman    PAK  778                                        \\xa0\\xa0             This player has moved down in the rankings since the previous rankings update    Francois du Plessis    SA  778                                        9             This player has moved down in the rankings since the previous rankings update    David Warner    AUS  773                                        \\xa0\\xa0             This player has moved down in the rankings since the previous rankings update    Shai Hope    WI  773   ',\n",
       " '   Pos Player Team Rating                                          2            Mujeeb Ur Rahman    AFG  708                                        3            Matt Henry    NZ  691                                        4            Jasprit Bumrah    IND  690                                        5             This player has moved up in the rankings since the previous rankings update    Mehedi Hasan    BAN  668                                        6             This player has moved down in the rankings since the previous rankings update    Kagiso Rabada    SA  666                                        7            Chris Woakes    ENG  665                                        8            Josh Hazlewood    AUS  660                                        9            Pat Cummins    AUS  646                                        10            Mohammad Amir    PAK  638   ',\n",
       " '   Pos Player Team Rating                                          2            Ben Stokes    ENG  295                                        3            Mohammad Nabi    AFG  294                                        4            Chris Woakes    ENG  273                                        5            Rashid Khan    AFG  270                                        6            Mitchell Santner    NZ  268                                        7            Imad Wasim    PAK  263                                        8            Colin de Grandhomme    NZ  257                                        9            Ravindra Jadeja    IND  245                                        10            Sean Williams    ZIM  238   ',\n",
       " '   Pos Player Team Rating                                          2             This player has moved down in the rankings since the previous rankings update    Virat Kohli    IND  857                                        3            Rohit Sharma    IND  825                                        4            Ross Taylor    NZ  801                                        5            Aaron Finch    AUS  791                                        6            Jonny Bairstow    ENG  785                                        7             This player has moved up in the rankings since the previous rankings update    Fakhar Zaman    PAK  778                                        \\xa0\\xa0             This player has moved down in the rankings since the previous rankings update    Francois du Plessis    SA  778                                        9             This player has moved down in the rankings since the previous rankings update    David Warner    AUS  773                                        \\xa0\\xa0             This player has moved down in the rankings since the previous rankings update    Shai Hope    WI  773   ',\n",
       " '   Pos Player Team Rating                                          2            Mujeeb Ur Rahman    AFG  708                                        3            Matt Henry    NZ  691                                        4            Jasprit Bumrah    IND  690                                        5             This player has moved up in the rankings since the previous rankings update    Mehedi Hasan    BAN  668                                        6             This player has moved down in the rankings since the previous rankings update    Kagiso Rabada    SA  666                                        7            Chris Woakes    ENG  665                                        8            Josh Hazlewood    AUS  660                                        9            Pat Cummins    AUS  646                                        10            Mohammad Amir    PAK  638   ',\n",
       " '   Pos Player Team Rating                                          2            Ben Stokes    ENG  295                                        3            Mohammad Nabi    AFG  294                                        4            Chris Woakes    ENG  273                                        5            Rashid Khan    AFG  270                                        6            Mitchell Santner    NZ  268                                        7            Imad Wasim    PAK  263                                        8            Colin de Grandhomme    NZ  257                                        9            Ravindra Jadeja    IND  245                                        10            Sean Williams    ZIM  238   ']"
      ]
     },
     "execution_count": 20,
     "metadata": {},
     "output_type": "execute_result"
    }
   ],
   "source": [
    "#iii) Top 10 ODI bowlers along with the records of their team and rating.\n",
    "\n",
    "import  requests\n",
    "from  bs4 import BeautifulSoup\n",
    "\n",
    "url = requests.get('https://www.icc-cricket.com/rankings/mens/player-rankings/odi')\n",
    "soup = BeautifulSoup(url.text, 'html.parser')\n",
    "#def Team:\n",
    "    \n",
    "story = soup.find_all(['table'],class_=\"table\")\n",
    "print(\"top10 women team in ODI\")\n",
    "\n",
    "story1=[]\n",
    "\n",
    "for i in story:\n",
    "     #print(\"\\n\")\n",
    "     story1.append(i.text.replace(\"\\n\",\" \"))\n",
    "story1 "
   ]
  },
  {
   "cell_type": "markdown",
   "metadata": {},
   "source": [
    "6. Write a python program to scrape cricket rankings from ‘www.icc-cricket.com’. You have to scrape:\n",
    "i) Top 10 ODI teams in women’s cricket along with the records for matches, points and rating.\n",
    "ii) Top 10 women’s ODI players along with the records of their team and rating.\n",
    "iii) Top 10 women’s ODI all-rounder along with the records of their team and rating."
   ]
  },
  {
   "cell_type": "code",
   "execution_count": null,
   "metadata": {},
   "outputs": [],
   "source": [
    "#i) Top 10 ODI teams in women’s cricket along with the records for matches, points and rating.\n",
    "import  requests\n",
    "from  bs4 import BeautifulSoup\n",
    "\n",
    "url = requests.get('https://www.icc-cricket.com/rankings/womens/team-rankings/odi')\n",
    "soup = BeautifulSoup(url.text, 'html.parser')\n",
    "#def Team:\n",
    "    \n",
    "story = soup.find_all(['table'],class_=\"table\")\n",
    "print(\"top10 women team in ODI\")\n",
    "\n",
    "story1=[]\n",
    "\n",
    "for i in story:\n",
    "     #print(\"\\n\")\n",
    "     story1.append(i.text.replace(\"\\n\",\" \"))\n",
    "story1 "
   ]
  },
  {
   "cell_type": "code",
   "execution_count": 48,
   "metadata": {},
   "outputs": [
    {
     "ename": "AttributeError",
     "evalue": "ResultSet object has no attribute 'text'. You're probably treating a list of elements like a single element. Did you call find_all() when you meant to call find()?",
     "output_type": "error",
     "traceback": [
      "\u001b[1;31m---------------------------------------------------------------------------\u001b[0m",
      "\u001b[1;31mAttributeError\u001b[0m                            Traceback (most recent call last)",
      "\u001b[1;32m<ipython-input-48-749e9000ccf0>\u001b[0m in \u001b[0;36m<module>\u001b[1;34m\u001b[0m\n\u001b[0;32m      8\u001b[0m \u001b[1;33m\u001b[0m\u001b[0m\n\u001b[0;32m      9\u001b[0m \u001b[0mstory11\u001b[0m \u001b[1;33m=\u001b[0m \u001b[0msoup\u001b[0m\u001b[1;33m.\u001b[0m\u001b[0mfind_all\u001b[0m\u001b[1;33m(\u001b[0m\u001b[1;33m[\u001b[0m\u001b[1;34m'tr'\u001b[0m\u001b[1;33m]\u001b[0m\u001b[1;33m,\u001b[0m\u001b[0mclass_\u001b[0m\u001b[1;33m=\u001b[0m\u001b[1;34m\"rankings-block__banner\"\u001b[0m\u001b[1;33m)\u001b[0m\u001b[1;33m\u001b[0m\u001b[1;33m\u001b[0m\u001b[0m\n\u001b[1;32m---> 10\u001b[1;33m \u001b[0mstory11\u001b[0m\u001b[1;33m.\u001b[0m\u001b[0mtext\u001b[0m\u001b[1;33m\u001b[0m\u001b[1;33m\u001b[0m\u001b[0m\n\u001b[0m\u001b[0;32m     11\u001b[0m \u001b[0mstory\u001b[0m \u001b[1;33m=\u001b[0m \u001b[0msoup\u001b[0m\u001b[1;33m.\u001b[0m\u001b[0mfind_all\u001b[0m\u001b[1;33m(\u001b[0m\u001b[1;33m[\u001b[0m\u001b[1;34m'table'\u001b[0m\u001b[1;33m]\u001b[0m\u001b[1;33m,\u001b[0m\u001b[0mclass_\u001b[0m\u001b[1;33m=\u001b[0m\u001b[1;34m\"table\"\u001b[0m\u001b[1;33m)\u001b[0m\u001b[1;33m\u001b[0m\u001b[1;33m\u001b[0m\u001b[0m\n\u001b[0;32m     12\u001b[0m \u001b[0mprint\u001b[0m\u001b[1;33m(\u001b[0m\u001b[1;34m\"Top 10 women’s ODI all-rounder\"\u001b[0m\u001b[1;33m)\u001b[0m\u001b[1;33m\u001b[0m\u001b[1;33m\u001b[0m\u001b[0m\n",
      "\u001b[1;32mC:\\ProgramData\\Anaconda3\\lib\\site-packages\\bs4\\element.py\u001b[0m in \u001b[0;36m__getattr__\u001b[1;34m(self, key)\u001b[0m\n\u001b[0;32m   2171\u001b[0m     \u001b[1;32mdef\u001b[0m \u001b[0m__getattr__\u001b[0m\u001b[1;33m(\u001b[0m\u001b[0mself\u001b[0m\u001b[1;33m,\u001b[0m \u001b[0mkey\u001b[0m\u001b[1;33m)\u001b[0m\u001b[1;33m:\u001b[0m\u001b[1;33m\u001b[0m\u001b[1;33m\u001b[0m\u001b[0m\n\u001b[0;32m   2172\u001b[0m         \u001b[1;34m\"\"\"Raise a helpful exception to explain a common code fix.\"\"\"\u001b[0m\u001b[1;33m\u001b[0m\u001b[1;33m\u001b[0m\u001b[0m\n\u001b[1;32m-> 2173\u001b[1;33m         raise AttributeError(\n\u001b[0m\u001b[0;32m   2174\u001b[0m             \u001b[1;34m\"ResultSet object has no attribute '%s'. You're probably treating a list of elements like a single element. Did you call find_all() when you meant to call find()?\"\u001b[0m \u001b[1;33m%\u001b[0m \u001b[0mkey\u001b[0m\u001b[1;33m\u001b[0m\u001b[1;33m\u001b[0m\u001b[0m\n\u001b[0;32m   2175\u001b[0m         )\n",
      "\u001b[1;31mAttributeError\u001b[0m: ResultSet object has no attribute 'text'. You're probably treating a list of elements like a single element. Did you call find_all() when you meant to call find()?"
     ]
    }
   ],
   "source": [
    "#ii) Top 10 women’s ODI players along with the records of their team and rating.\n",
    "import  requests\n",
    "from  bs4 import BeautifulSoup\n",
    "\n",
    "url = requests.get('https://www.icc-cricket.com/rankings/mens/team-rankings/odi')\n",
    "soup = BeautifulSoup(url.text, 'html.parser')\n",
    "\n",
    "\n",
    "story11 = soup.find_all(['tr'],class_=\"rankings-block__banner\")\n",
    "story11.text\n",
    "story = soup.find_all(['table'],class_=\"table\")\n",
    "print(\"Top 10 women’s ODI all-rounder\")\n",
    "\n",
    "story1=[]\n",
    "\n",
    "for i in story:\n",
    "     #print(\"\\n\")\n",
    "     story1.append(i.text.replace(\"\\n\",\" \"))\n",
    "story1 "
   ]
  },
  {
   "cell_type": "code",
   "execution_count": 38,
   "metadata": {},
   "outputs": [
    {
     "name": "stdout",
     "output_type": "stream",
     "text": [
      "Top 10 women’s ODI all-rounder\n"
     ]
    },
    {
     "data": {
      "text/plain": [
       "[' Lizelle Lee ',\n",
       " ' Alyssa Healy ',\n",
       " ' Stafanie Taylor ',\n",
       " ' Meg Lanning ',\n",
       " ' Amy Satterthwaite ',\n",
       " ' Smriti Mandhana ',\n",
       " ' Mithali Raj ',\n",
       " ' Natalie Sciver ',\n",
       " ' Laura Wolvaardt ',\n",
       " ' Megan Schutt ',\n",
       " ' Marizanne Kapp ',\n",
       " ' Shabnim Ismail ',\n",
       " ' Jhulan Goswami ',\n",
       " ' Katherine Brunt ',\n",
       " ' Poonam Yadav ',\n",
       " ' Ayabonga Khaka ',\n",
       " ' Ellyse Perry ',\n",
       " ' Shikha Pandey ',\n",
       " ' Ellyse Perry ',\n",
       " ' Stafanie Taylor ',\n",
       " ' Natalie Sciver ',\n",
       " ' Deepti Sharma ',\n",
       " ' Jess Jonassen ',\n",
       " ' Ashleigh Gardner ',\n",
       " ' Dane van Niekerk ',\n",
       " ' Sophie Devine ',\n",
       " ' Amelia Kerr ']"
      ]
     },
     "execution_count": 38,
     "metadata": {},
     "output_type": "execute_result"
    }
   ],
   "source": [
    "#iii) Top 10 women’s ODI all-rounder along with the records of their team and rating.\n",
    "import  requests\n",
    "from  bs4 import BeautifulSoup\n",
    "\n",
    "url = requests.get('https://www.icc-cricket.com/rankings/womens/player-rankings/odi')\n",
    "soup = BeautifulSoup(url.text, 'html.parser')\n",
    "\n",
    "\n",
    "story = soup.find_all(['td'],class_=\"table-body__cell name\")\n",
    "print(\"Top 10 women’s ODI all-rounder\")\n",
    "\n",
    "story1=[]\n",
    "\n",
    "for i in story:\n",
    "     #print(\"\\n\")\n",
    "       \n",
    "       story1.append(i.text.replace(\"\\n\",\" \"))\n",
    "story1 "
   ]
  },
  {
   "cell_type": "markdown",
   "metadata": {},
   "source": [
    "7. Write a python program to scrape details of all the mobile phones under Rs. 20,000 listed on Amazon.in. The scraped data should include Product Name, Price, Image URL and Average Rating."
   ]
  },
  {
   "cell_type": "code",
   "execution_count": 47,
   "metadata": {},
   "outputs": [
    {
     "name": "stdout",
     "output_type": "stream",
     "text": [
      "Product Title = \n",
      "Product Price = \n",
      "Product Rating = 4.4 out of 5 stars\n",
      "Number of Product Reviews = \n",
      "Availability = \n",
      "\n",
      "\n"
     ]
    }
   ],
   "source": [
    "from bs4 import BeautifulSoup\n",
    "import requests\n",
    " \n",
    "# Function to extract Product Title\n",
    "def get_title(soup):\n",
    "     \n",
    "    try:\n",
    "        # Outer Tag Object\n",
    "        title = soup.find([\"span\"], attrs={\"id\":'productTitle'})\n",
    " \n",
    "        # Inner NavigableString Object\n",
    "        title_value = title.string\n",
    " \n",
    "        # Title as a string value\n",
    "        title_string = title_value.strip()\n",
    " \n",
    "        # # Printing types of values for efficient understanding\n",
    "        # print(type(title))\n",
    "        # print(type(title_value))\n",
    "        # print(type(title_string))\n",
    "        # print()\n",
    " \n",
    "    except AttributeError:\n",
    "        title_string = \"\"   \n",
    " \n",
    "    return title_string\n",
    " \n",
    "# Function to extract Product Price\n",
    "def get_price(soup):\n",
    " \n",
    "    try:\n",
    "        price = soup.find(\"span\", attrs={'clas':'a-price-whole'}).string.strip()\n",
    " \n",
    "    except AttributeError:\n",
    "        price = \"\"  \n",
    " \n",
    "    return price\n",
    " \n",
    "# Function to extract Product Rating\n",
    "def get_rating(soup):\n",
    " \n",
    "    try:\n",
    "        rating = soup.find(\"i\", attrs={'class':'a-icon a-icon-star a-star-4-5'}).string.strip()\n",
    "         \n",
    "    except AttributeError:\n",
    "         \n",
    "        try:\n",
    "            rating = soup.find(\"span\", attrs={'class':'a-icon-alt'}).string.strip()\n",
    "        except:\n",
    "            rating = \"\" \n",
    " \n",
    "    return rating\n",
    " \n",
    "# Function to extract Number of User Reviews\n",
    "def get_review_count(soup):\n",
    "    try:\n",
    "        review_count = soup.find(\"span\", attrs={'id':'acrCustomerReviewText'}).string.strip()\n",
    "         \n",
    "    except AttributeError:\n",
    "        review_count = \"\"   \n",
    " \n",
    "    return review_count\n",
    " \n",
    "# Function to extract Availability Status\n",
    "def get_availability(soup):\n",
    "    try:\n",
    "        available = soup.find(\"div\", attrs={'id':'availability'})\n",
    "        available = available.find(\"span\").string.strip()\n",
    " \n",
    "    except AttributeError:\n",
    "        available = \"\"  \n",
    " \n",
    "    return available    \n",
    " \n",
    "if __name__ == '__main__':\n",
    " \n",
    "    # Headers for request\n",
    "    HEADERS = ({'User-Agent':'Mozilla/5.0 (X11; Linux x86_64) AppleWebKit/537.36 (KHTML, like Gecko) Chrome/44.0.2403.157 Safari/537.36','Accept-Language': 'en-US, en;q=0.5'})\n",
    " \n",
    "    # The webpage URL\n",
    "    URL = \"https://www.amazon.in/s?k=mobile+under+20000+rupees&crid=K45BBDJYQ51H&sprefix=mobile+under+20000%2Caps%2C361&ref=nb_sb_ss_ts-doa-p_2_18\"\n",
    "    # HTTP Request\n",
    "    webpage = requests.get(URL, headers=HEADERS)\n",
    " \n",
    "    # Soup Object containing all data\n",
    "    soup = BeautifulSoup(webpage.content, \"lxml\")\n",
    " \n",
    "    # Function calls to display all necessary product information\n",
    "    print(\"Product Title =\", get_title(soup))\n",
    "    print(\"Product Price =\", get_price(soup))\n",
    "    print(\"Product Rating =\", get_rating(soup))\n",
    "    print(\"Number of Product Reviews =\", get_review_count(soup))\n",
    "    print(\"Availability =\", get_availability(soup))\n",
    "    print()\n",
    "    print()"
   ]
  },
  {
   "cell_type": "markdown",
   "metadata": {},
   "source": [
    "8. Write a python program to extract information about the local weather from the National Weather Service website of USA, https://www.weather.gov/ for the city, San Francisco. You need to extract data about 7 day extended forecast display for the city. The data should include period, short description, temperature and description"
   ]
  },
  {
   "cell_type": "code",
   "execution_count": 39,
   "metadata": {},
   "outputs": [
    {
     "data": {
      "text/plain": [
       "['TodaySunny, with a high near 71. West wind 7 to 15 mph, with gusts as high as 20 mph. ',\n",
       " 'MondaySunny, with a high near 77. Light west northwest wind becoming west 10 to 15 mph in the afternoon. Winds could gust as high as 20 mph. ',\n",
       " 'TuesdaySunny, with a high near 75. Light west northwest wind becoming west 10 to 15 mph in the afternoon. Winds could gust as high as 20 mph. ',\n",
       " 'WednesdaySunny, with a high near 69.',\n",
       " 'ThursdayMostly sunny, with a high near 67.',\n",
       " 'FridayMostly sunny, with a high near 65.',\n",
       " 'SaturdayMostly sunny, with a high near 65.']"
      ]
     },
     "execution_count": 39,
     "metadata": {},
     "output_type": "execute_result"
    }
   ],
   "source": [
    "import  requests\n",
    "from  bs4 import BeautifulSoup\n",
    "\n",
    "url = requests.get('https://forecast.weather.gov/MapClick.php?lat=37.777120000000025&lon=-122.41963999999996#.YJFimLUzbIU')\n",
    "soup = BeautifulSoup(url.text, 'html.parser')\n",
    "list = soup.find_all('div',class_=\"row row-odd row-forecast\")\n",
    "#story.text\n",
    "list1=[]\n",
    "for i in list:\n",
    "   \n",
    "   list1.append(i.text)\n",
    "   \n",
    "list1"
   ]
  },
  {
   "cell_type": "code",
   "execution_count": null,
   "metadata": {},
   "outputs": [],
   "source": []
  }
 ],
 "metadata": {
  "kernelspec": {
   "display_name": "Python 3",
   "language": "python",
   "name": "python3"
  },
  "language_info": {
   "codemirror_mode": {
    "name": "ipython",
    "version": 3
   },
   "file_extension": ".py",
   "mimetype": "text/x-python",
   "name": "python",
   "nbconvert_exporter": "python",
   "pygments_lexer": "ipython3",
   "version": "3.8.5"
  }
 },
 "nbformat": 4,
 "nbformat_minor": 4
}
