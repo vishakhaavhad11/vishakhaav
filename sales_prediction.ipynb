{
 "cells": [
  {
   "cell_type": "code",
   "execution_count": 286,
   "metadata": {},
   "outputs": [],
   "source": [
    "                                        #Sales Channel Prediction Case Study#"
   ]
  },
  {
   "cell_type": "markdown",
   "metadata": {},
   "source": [
    "Problem Statement:\n",
    "When a company enters a market, the distribution strategy and channel it uses are keys to its success in the market, as well as market know-how and customer knowledge and understanding. Because an effective distribution strategy under efficient supply-chain management opens doors for attaining competitive advantage and strong brand equity in the market, it is a component of the marketing mix that cannot be ignored . \n",
    "The distribution strategy and the channel design have to be right the first time. The case study of Sales channel includes the detailed study of TV, radio and newspaper channel. The predict the total sales generated from all the sales channel. "
   ]
  },
  {
   "cell_type": "code",
   "execution_count": 287,
   "metadata": {},
   "outputs": [],
   "source": [
    "#importing the libary\n",
    "import numpy as np\n",
    "import pandas as pd\n",
    "\n",
    "from sklearn.preprocessing import StandardScaler\n",
    "from sklearn.linear_model import LinearRegression\n",
    "from sklearn.model_selection import train_test_split\n",
    "from sklearn.metrics import r2_score\n",
    "\n",
    "\n",
    "# Data Visualisation\n",
    "import matplotlib.pyplot as plt \n",
    "import seaborn as sns"
   ]
  },
  {
   "cell_type": "code",
   "execution_count": 288,
   "metadata": {},
   "outputs": [
    {
     "data": {
      "text/html": [
       "<div>\n",
       "<style scoped>\n",
       "    .dataframe tbody tr th:only-of-type {\n",
       "        vertical-align: middle;\n",
       "    }\n",
       "\n",
       "    .dataframe tbody tr th {\n",
       "        vertical-align: top;\n",
       "    }\n",
       "\n",
       "    .dataframe thead th {\n",
       "        text-align: right;\n",
       "    }\n",
       "</style>\n",
       "<table border=\"1\" class=\"dataframe\">\n",
       "  <thead>\n",
       "    <tr style=\"text-align: right;\">\n",
       "      <th></th>\n",
       "      <th>Unnamed: 0</th>\n",
       "      <th>TV</th>\n",
       "      <th>radio</th>\n",
       "      <th>newspaper</th>\n",
       "      <th>sales</th>\n",
       "    </tr>\n",
       "  </thead>\n",
       "  <tbody>\n",
       "    <tr>\n",
       "      <th>0</th>\n",
       "      <td>1</td>\n",
       "      <td>230.1</td>\n",
       "      <td>37.8</td>\n",
       "      <td>69.2</td>\n",
       "      <td>22.1</td>\n",
       "    </tr>\n",
       "    <tr>\n",
       "      <th>1</th>\n",
       "      <td>2</td>\n",
       "      <td>44.5</td>\n",
       "      <td>39.3</td>\n",
       "      <td>45.1</td>\n",
       "      <td>10.4</td>\n",
       "    </tr>\n",
       "    <tr>\n",
       "      <th>2</th>\n",
       "      <td>3</td>\n",
       "      <td>17.2</td>\n",
       "      <td>45.9</td>\n",
       "      <td>69.3</td>\n",
       "      <td>9.3</td>\n",
       "    </tr>\n",
       "    <tr>\n",
       "      <th>3</th>\n",
       "      <td>4</td>\n",
       "      <td>151.5</td>\n",
       "      <td>41.3</td>\n",
       "      <td>58.5</td>\n",
       "      <td>18.5</td>\n",
       "    </tr>\n",
       "    <tr>\n",
       "      <th>4</th>\n",
       "      <td>5</td>\n",
       "      <td>180.8</td>\n",
       "      <td>10.8</td>\n",
       "      <td>58.4</td>\n",
       "      <td>12.9</td>\n",
       "    </tr>\n",
       "  </tbody>\n",
       "</table>\n",
       "</div>"
      ],
      "text/plain": [
       "   Unnamed: 0     TV  radio  newspaper  sales\n",
       "0           1  230.1   37.8       69.2   22.1\n",
       "1           2   44.5   39.3       45.1   10.4\n",
       "2           3   17.2   45.9       69.3    9.3\n",
       "3           4  151.5   41.3       58.5   18.5\n",
       "4           5  180.8   10.8       58.4   12.9"
      ]
     },
     "execution_count": 288,
     "metadata": {},
     "output_type": "execute_result"
    }
   ],
   "source": [
    "# print top data\n",
    "\n",
    "df=pd.read_csv('D:\\project-datatrained\\Advertising.csv')\n",
    "\n",
    "df.head()"
   ]
  },
  {
   "cell_type": "markdown",
   "metadata": {},
   "source": [
    "print head columns"
   ]
  },
  {
   "cell_type": "code",
   "execution_count": 289,
   "metadata": {},
   "outputs": [
    {
     "data": {
      "text/plain": [
       "(200, 5)"
      ]
     },
     "execution_count": 289,
     "metadata": {},
     "output_type": "execute_result"
    }
   ],
   "source": [
    "df.shape"
   ]
  },
  {
   "cell_type": "markdown",
   "metadata": {},
   "source": [
    "in data set there are 200 row and 5 columns"
   ]
  },
  {
   "cell_type": "code",
   "execution_count": 290,
   "metadata": {},
   "outputs": [
    {
     "name": "stdout",
     "output_type": "stream",
     "text": [
      "<class 'pandas.core.frame.DataFrame'>\n",
      "RangeIndex: 200 entries, 0 to 199\n",
      "Data columns (total 5 columns):\n",
      " #   Column      Non-Null Count  Dtype  \n",
      "---  ------      --------------  -----  \n",
      " 0   Unnamed: 0  200 non-null    int64  \n",
      " 1   TV          200 non-null    float64\n",
      " 2   radio       200 non-null    float64\n",
      " 3   newspaper   200 non-null    float64\n",
      " 4   sales       200 non-null    float64\n",
      "dtypes: float64(4), int64(1)\n",
      "memory usage: 7.9 KB\n"
     ]
    }
   ],
   "source": [
    "df.info()"
   ]
  },
  {
   "cell_type": "markdown",
   "metadata": {},
   "source": [
    "dataset has int and float datatype"
   ]
  },
  {
   "cell_type": "code",
   "execution_count": 291,
   "metadata": {},
   "outputs": [
    {
     "data": {
      "text/html": [
       "<div>\n",
       "<style scoped>\n",
       "    .dataframe tbody tr th:only-of-type {\n",
       "        vertical-align: middle;\n",
       "    }\n",
       "\n",
       "    .dataframe tbody tr th {\n",
       "        vertical-align: top;\n",
       "    }\n",
       "\n",
       "    .dataframe thead th {\n",
       "        text-align: right;\n",
       "    }\n",
       "</style>\n",
       "<table border=\"1\" class=\"dataframe\">\n",
       "  <thead>\n",
       "    <tr style=\"text-align: right;\">\n",
       "      <th></th>\n",
       "      <th>Unnamed: 0</th>\n",
       "      <th>TV</th>\n",
       "      <th>radio</th>\n",
       "      <th>newspaper</th>\n",
       "      <th>sales</th>\n",
       "    </tr>\n",
       "  </thead>\n",
       "  <tbody>\n",
       "    <tr>\n",
       "      <th>count</th>\n",
       "      <td>200.000000</td>\n",
       "      <td>200.000000</td>\n",
       "      <td>200.000000</td>\n",
       "      <td>200.000000</td>\n",
       "      <td>200.000000</td>\n",
       "    </tr>\n",
       "    <tr>\n",
       "      <th>mean</th>\n",
       "      <td>100.500000</td>\n",
       "      <td>147.042500</td>\n",
       "      <td>23.264000</td>\n",
       "      <td>30.554000</td>\n",
       "      <td>14.022500</td>\n",
       "    </tr>\n",
       "    <tr>\n",
       "      <th>std</th>\n",
       "      <td>57.879185</td>\n",
       "      <td>85.854236</td>\n",
       "      <td>14.846809</td>\n",
       "      <td>21.778621</td>\n",
       "      <td>5.217457</td>\n",
       "    </tr>\n",
       "    <tr>\n",
       "      <th>min</th>\n",
       "      <td>1.000000</td>\n",
       "      <td>0.700000</td>\n",
       "      <td>0.000000</td>\n",
       "      <td>0.300000</td>\n",
       "      <td>1.600000</td>\n",
       "    </tr>\n",
       "    <tr>\n",
       "      <th>25%</th>\n",
       "      <td>50.750000</td>\n",
       "      <td>74.375000</td>\n",
       "      <td>9.975000</td>\n",
       "      <td>12.750000</td>\n",
       "      <td>10.375000</td>\n",
       "    </tr>\n",
       "    <tr>\n",
       "      <th>50%</th>\n",
       "      <td>100.500000</td>\n",
       "      <td>149.750000</td>\n",
       "      <td>22.900000</td>\n",
       "      <td>25.750000</td>\n",
       "      <td>12.900000</td>\n",
       "    </tr>\n",
       "    <tr>\n",
       "      <th>75%</th>\n",
       "      <td>150.250000</td>\n",
       "      <td>218.825000</td>\n",
       "      <td>36.525000</td>\n",
       "      <td>45.100000</td>\n",
       "      <td>17.400000</td>\n",
       "    </tr>\n",
       "    <tr>\n",
       "      <th>max</th>\n",
       "      <td>200.000000</td>\n",
       "      <td>296.400000</td>\n",
       "      <td>49.600000</td>\n",
       "      <td>114.000000</td>\n",
       "      <td>27.000000</td>\n",
       "    </tr>\n",
       "  </tbody>\n",
       "</table>\n",
       "</div>"
      ],
      "text/plain": [
       "       Unnamed: 0          TV       radio   newspaper       sales\n",
       "count  200.000000  200.000000  200.000000  200.000000  200.000000\n",
       "mean   100.500000  147.042500   23.264000   30.554000   14.022500\n",
       "std     57.879185   85.854236   14.846809   21.778621    5.217457\n",
       "min      1.000000    0.700000    0.000000    0.300000    1.600000\n",
       "25%     50.750000   74.375000    9.975000   12.750000   10.375000\n",
       "50%    100.500000  149.750000   22.900000   25.750000   12.900000\n",
       "75%    150.250000  218.825000   36.525000   45.100000   17.400000\n",
       "max    200.000000  296.400000   49.600000  114.000000   27.000000"
      ]
     },
     "execution_count": 291,
     "metadata": {},
     "output_type": "execute_result"
    }
   ],
   "source": [
    "df.describe()"
   ]
  },
  {
   "cell_type": "markdown",
   "metadata": {},
   "source": [
    "all columns has 200 row there is no missing data"
   ]
  },
  {
   "cell_type": "markdown",
   "metadata": {},
   "source": [
    "Data Cleaning"
   ]
  },
  {
   "cell_type": "code",
   "execution_count": 292,
   "metadata": {},
   "outputs": [
    {
     "data": {
      "text/html": [
       "<div>\n",
       "<style scoped>\n",
       "    .dataframe tbody tr th:only-of-type {\n",
       "        vertical-align: middle;\n",
       "    }\n",
       "\n",
       "    .dataframe tbody tr th {\n",
       "        vertical-align: top;\n",
       "    }\n",
       "\n",
       "    .dataframe thead th {\n",
       "        text-align: right;\n",
       "    }\n",
       "</style>\n",
       "<table border=\"1\" class=\"dataframe\">\n",
       "  <thead>\n",
       "    <tr style=\"text-align: right;\">\n",
       "      <th></th>\n",
       "      <th>TV</th>\n",
       "      <th>radio</th>\n",
       "      <th>newspaper</th>\n",
       "      <th>sales</th>\n",
       "    </tr>\n",
       "  </thead>\n",
       "  <tbody>\n",
       "    <tr>\n",
       "      <th>0</th>\n",
       "      <td>230.1</td>\n",
       "      <td>37.8</td>\n",
       "      <td>69.2</td>\n",
       "      <td>22.1</td>\n",
       "    </tr>\n",
       "    <tr>\n",
       "      <th>1</th>\n",
       "      <td>44.5</td>\n",
       "      <td>39.3</td>\n",
       "      <td>45.1</td>\n",
       "      <td>10.4</td>\n",
       "    </tr>\n",
       "    <tr>\n",
       "      <th>2</th>\n",
       "      <td>17.2</td>\n",
       "      <td>45.9</td>\n",
       "      <td>69.3</td>\n",
       "      <td>9.3</td>\n",
       "    </tr>\n",
       "    <tr>\n",
       "      <th>3</th>\n",
       "      <td>151.5</td>\n",
       "      <td>41.3</td>\n",
       "      <td>58.5</td>\n",
       "      <td>18.5</td>\n",
       "    </tr>\n",
       "    <tr>\n",
       "      <th>4</th>\n",
       "      <td>180.8</td>\n",
       "      <td>10.8</td>\n",
       "      <td>58.4</td>\n",
       "      <td>12.9</td>\n",
       "    </tr>\n",
       "    <tr>\n",
       "      <th>...</th>\n",
       "      <td>...</td>\n",
       "      <td>...</td>\n",
       "      <td>...</td>\n",
       "      <td>...</td>\n",
       "    </tr>\n",
       "    <tr>\n",
       "      <th>195</th>\n",
       "      <td>38.2</td>\n",
       "      <td>3.7</td>\n",
       "      <td>13.8</td>\n",
       "      <td>7.6</td>\n",
       "    </tr>\n",
       "    <tr>\n",
       "      <th>196</th>\n",
       "      <td>94.2</td>\n",
       "      <td>4.9</td>\n",
       "      <td>8.1</td>\n",
       "      <td>9.7</td>\n",
       "    </tr>\n",
       "    <tr>\n",
       "      <th>197</th>\n",
       "      <td>177.0</td>\n",
       "      <td>9.3</td>\n",
       "      <td>6.4</td>\n",
       "      <td>12.8</td>\n",
       "    </tr>\n",
       "    <tr>\n",
       "      <th>198</th>\n",
       "      <td>283.6</td>\n",
       "      <td>42.0</td>\n",
       "      <td>66.2</td>\n",
       "      <td>25.5</td>\n",
       "    </tr>\n",
       "    <tr>\n",
       "      <th>199</th>\n",
       "      <td>232.1</td>\n",
       "      <td>8.6</td>\n",
       "      <td>8.7</td>\n",
       "      <td>13.4</td>\n",
       "    </tr>\n",
       "  </tbody>\n",
       "</table>\n",
       "<p>200 rows × 4 columns</p>\n",
       "</div>"
      ],
      "text/plain": [
       "        TV  radio  newspaper  sales\n",
       "0    230.1   37.8       69.2   22.1\n",
       "1     44.5   39.3       45.1   10.4\n",
       "2     17.2   45.9       69.3    9.3\n",
       "3    151.5   41.3       58.5   18.5\n",
       "4    180.8   10.8       58.4   12.9\n",
       "..     ...    ...        ...    ...\n",
       "195   38.2    3.7       13.8    7.6\n",
       "196   94.2    4.9        8.1    9.7\n",
       "197  177.0    9.3        6.4   12.8\n",
       "198  283.6   42.0       66.2   25.5\n",
       "199  232.1    8.6        8.7   13.4\n",
       "\n",
       "[200 rows x 4 columns]"
      ]
     },
     "execution_count": 292,
     "metadata": {},
     "output_type": "execute_result"
    }
   ],
   "source": [
    "df.drop(\"Unnamed: 0\",axis=1)"
   ]
  },
  {
   "cell_type": "markdown",
   "metadata": {},
   "source": [
    "here we remove the Unnamed: 0 columns"
   ]
  },
  {
   "cell_type": "code",
   "execution_count": 293,
   "metadata": {},
   "outputs": [
    {
     "data": {
      "text/plain": [
       "Unnamed: 0    0\n",
       "TV            0\n",
       "radio         0\n",
       "newspaper     0\n",
       "sales         0\n",
       "dtype: int64"
      ]
     },
     "execution_count": 293,
     "metadata": {},
     "output_type": "execute_result"
    }
   ],
   "source": [
    "df.isnull().sum()"
   ]
  },
  {
   "cell_type": "markdown",
   "metadata": {},
   "source": [
    "there is no null value,hence cleaning is not required."
   ]
  },
  {
   "cell_type": "code",
   "execution_count": 294,
   "metadata": {},
   "outputs": [
    {
     "data": {
      "image/png": "[encoded data removed]",
      "text/plain": [
       "<Figure size 360x360 with 3 Axes>"
      ]
     },
     "metadata": {
      "needs_background": "light"
     },
     "output_type": "display_data"
    }
   ],
   "source": [
    "# Outlier Analysis\n",
    "fig, axs = plt.subplots(3, figsize = (5,5))\n",
    "plt1 = sns.boxplot(df['TV'], ax = axs[0])\n",
    "plt2 = sns.boxplot(df['newspaper'], ax = axs[1])\n",
    "plt3 = sns.boxplot(df['radio'], ax = axs[2])\n",
    "plt.tight_layout()"
   ]
  },
  {
   "cell_type": "raw",
   "metadata": {},
   "source": [
    "# in newspaper there are two outlier prestent which need treatemt"
   ]
  },
  {
   "cell_type": "code",
   "execution_count": 295,
   "metadata": {},
   "outputs": [
    {
     "data": {
      "text/plain": [
       "Unnamed: 0    0.000000\n",
       "TV           -0.069853\n",
       "radio         0.094175\n",
       "newspaper     0.894720\n",
       "sales         0.407571\n",
       "dtype: float64"
      ]
     },
     "execution_count": 295,
     "metadata": {},
     "output_type": "execute_result"
    }
   ],
   "source": [
    "df.skew() #greater than +0.5 less than -0.5"
   ]
  },
  {
   "cell_type": "raw",
   "metadata": {},
   "source": [
    "# newspaper dataset has right skew data so we need to treat that data"
   ]
  },
  {
   "cell_type": "code",
   "execution_count": 296,
   "metadata": {},
   "outputs": [],
   "source": [
    "data=df.copy()"
   ]
  },
  {
   "cell_type": "markdown",
   "metadata": {},
   "source": [
    "create a copy of dataset"
   ]
  },
  {
   "cell_type": "code",
   "execution_count": 297,
   "metadata": {},
   "outputs": [
    {
     "name": "stdout",
     "output_type": "stream",
     "text": [
      "[[1.72341210e+00 9.69852266e-01 9.81522472e-01 1.77894547e+00\n",
      "  1.55205313e+00]\n",
      " [1.70609137e+00 1.19737623e+00 1.08280781e+00 6.69578760e-01\n",
      "  6.96046111e-01]\n",
      " [1.68877065e+00 1.51615499e+00 1.52846331e+00 1.78354865e+00\n",
      "  9.07405869e-01]\n",
      " [1.67144992e+00 5.20496822e-02 1.21785493e+00 1.28640506e+00\n",
      "  8.60330287e-01]\n",
      " [1.65412920e+00 3.94182198e-01 8.41613655e-01 1.28180188e+00\n",
      "  2.15683025e-01]\n",
      " [1.63680847e+00 1.61540845e+00 1.73103399e+00 2.04592999e+00\n",
      "  1.31091086e+00]\n",
      " [1.61948775e+00 1.04557682e+00 6.43904671e-01 3.24708413e-01\n",
      "  4.27042783e-01]\n",
      " [1.60216702e+00 3.13436589e-01 2.47406325e-01 8.72486994e-01\n",
      "  1.58039455e-01]\n",
      " [1.58484630e+00 1.61657614e+00 1.42906863e+00 1.36042422e+00\n",
      "  1.77205942e+00]\n",
      " [1.56752558e+00 6.16042873e-01 1.39530685e+00 4.30581584e-01\n",
      "  6.57617064e-01]\n",
      " [1.55020485e+00 9.45155670e-01 1.17923146e+00 2.92486143e-01\n",
      "  1.04190753e+00]\n",
      " [1.53288413e+00 7.90028350e-01 4.96973404e-02 1.22232878e+00\n",
      "  6.48970529e-01]\n",
      " [1.51556340e+00 1.43908760e+00 7.99208859e-01 1.62704048e+00\n",
      "  9.26620392e-01]\n",
      " [1.49824268e+00 5.78501712e-01 1.05768905e+00 1.07502697e+00\n",
      "  8.30547775e-01]\n",
      " [1.48092195e+00 6.66253447e-01 6.50657027e-01 7.11007392e-01\n",
      "  9.56402904e-01]\n",
      " [1.46360123e+00 5.64664612e-01 1.65000572e+00 1.02862691e+00\n",
      "  1.60969670e+00]\n",
      " [1.44628050e+00 9.25304978e-01 9.00494200e-01 3.84117072e+00\n",
      "  2.92541119e-01]\n",
      " [1.42895978e+00 1.56887609e+00 1.10306488e+00 1.16211917e+00\n",
      "  1.99398717e+00]\n",
      " [1.41163905e+00 9.08957349e-01 1.86635121e-01 5.64073843e-01\n",
      "  5.23115400e-01]\n",
      " [1.39431833e+00 3.00679600e-03 4.29449843e-02 5.27248393e-01\n",
      "  1.10963873e-01]\n",
      " [1.37699760e+00 8.33232798e-01 2.99534513e-01 1.05164281e+00\n",
      "  7.64257669e-01]\n",
      " [1.35967688e+00 1.05509347e+00 1.22649795e+00 3.24708413e-01\n",
      "  2.92541119e-01]\n",
      " [1.34235616e+00 1.56286250e+00 4.97243498e-01 8.76721921e-01\n",
      "  1.61834324e+00]\n",
      " [1.32503543e+00 9.48833887e-01 4.29719938e-01 2.00422516e-01\n",
      "  2.83894584e-01]\n",
      " [1.30771471e+00 9.89527805e-01 7.20071247e-01 5.64073843e-01\n",
      "  8.30547775e-01]\n",
      " [1.29039398e+00 1.35285385e+00 1.33453565e+00 5.08835667e-01\n",
      "  3.88613736e-01]\n",
      " [1.27307326e+00 4.83714657e-02 4.07572210e-01 8.26455181e-01\n",
      "  1.87821967e-01]\n",
      " [1.25575253e+00 1.08662104e+00 4.43224650e-01 3.52327501e-01\n",
      "  3.60752677e-01]\n",
      " [1.23843181e+00 1.18820988e+00 2.59020377e-01 3.52327501e-01\n",
      "  9.37188380e-01]\n",
      " [1.22111108e+00 8.92609721e-01 4.90491142e-01 4.71641962e-01\n",
      "  6.76831588e-01]\n",
      " [1.20379036e+00 1.70316018e+00 3.40048650e-01 5.82118314e-01\n",
      "  1.41755147e+00]\n",
      " [1.18646963e+00 3.98677796e-01 3.95958157e-01 3.70371972e-01\n",
      "  4.07828260e-01]\n",
      " [1.16914891e+00 5.82004775e-01 1.46958277e+00 2.55016247e-02\n",
      "  8.49762299e-01]\n",
      " [1.15182818e+00 1.38438142e+00 2.20396901e-01 1.39264649e+00\n",
      "  6.48970529e-01]\n",
      " [1.13450746e+00 5.99520091e-01 1.47633512e+00 1.06582061e+00\n",
      "  8.68976822e-01]\n",
      " [1.11718674e+00 1.67747105e+00 1.29402151e+00 1.01518562e+00\n",
      "  2.34897549e-01]\n",
      " [1.09986601e+00 1.39956136e+00 1.38666383e+00 1.17629696e+00\n",
      "  2.18613240e+00]\n",
      " [1.08254529e+00 8.44734522e-01 1.76479577e+00 6.97197848e-01\n",
      "  1.30178396e-01]\n",
      " [1.06522456e+00 1.21372386e+00 2.32010953e-01 2.09260624e-01\n",
      "  7.53689682e-01]\n",
      " [1.04790384e+00 9.45330823e-01 9.74770116e-01 6.65620024e-02\n",
      "  1.43676599e+00]\n",
      " [1.03058311e+00 6.47570443e-01 6.50927121e-02 4.81492770e-02\n",
      "  4.95254341e-01]\n",
      " [1.01326239e+00 3.49810063e-01 6.84418807e-01 3.74975153e-01\n",
      "  5.91326959e-01]\n",
      " [9.95941664e-01 1.71133400e+00 2.99534513e-01 1.32359877e+00\n",
      "  1.28304980e+00]\n",
      " [9.78620939e-01 6.98948705e-01 1.00367020e+00 1.91216154e-01\n",
      "  2.15683025e-01]\n",
      " [9.61300215e-01 1.42390765e+00 1.64487393e-01 5.86721496e-01\n",
      "  1.06112206e+00]\n",
      " [9.43979490e-01 3.27623995e-01 5.15880000e-02 4.35460956e-02\n",
      "  1.68607443e-01]\n",
      " [9.26658765e-01 6.69581357e-01 9.02384859e-01 2.36879713e-01\n",
      "  6.57617064e-01]\n",
      " [9.09338041e-01 1.08428567e+00 1.23135965e+00 5.54867481e-01\n",
      "  1.76341289e+00]\n",
      " [8.92017316e-01 9.35989321e-01 5.03995854e-01 8.90531465e-01\n",
      "  1.49392920e-01]\n",
      " [8.74696592e-01 9.35814168e-01 7.80842451e-01 2.87514708e-01\n",
      "  8.30547775e-01]\n",
      " [8.57375867e-01 6.16042873e-01 1.36154507e+00 1.86244718e-01\n",
      "  5.03900877e-01]\n",
      " [8.40055142e-01 5.44638766e-01 9.22641928e-01 1.24074150e+00\n",
      "  6.38402541e-01]\n",
      " [8.22734418e-01 8.09879042e-01 1.24486436e+00 4.16403786e-01\n",
      "  1.64812575e+00]\n",
      " [8.05413693e-01 4.15200577e-01 1.54872038e+00 1.29561142e+00\n",
      "  1.37912242e+00]\n",
      " [7.88092969e-01 1.35051848e+00 3.73810430e-01 6.74550196e-01\n",
      "  1.18697718e+00]\n",
      " [7.70772244e-01 6.05533683e-01 1.76479577e+00 1.35545278e+00\n",
      "  1.85948550e+00]\n",
      " [7.53451519e-01 1.63175608e+00 3.26543937e-01 4.99261050e-01\n",
      "  1.63755776e+00]\n",
      " [7.36130795e-01 1.26606546e-01 2.74415749e-01 6.42327927e-01\n",
      "  1.58039455e-01]\n",
      " [7.18810070e-01 7.44488528e-01 1.77830048e+00 3.28943340e-01\n",
      "  1.87870003e+00]\n",
      " [7.01489346e-01 7.43320840e-01 4.21076922e-01 9.78360166e-01\n",
      "  8.41115763e-01]\n",
      " [6.84168621e-01 1.09228433e+00 1.43582099e+00 4.21375221e-01\n",
      "  1.13798015e+00]\n",
      " [6.66847897e-01 1.33417085e+00 1.31238792e+00 1.11148417e+00\n",
      "  1.95555812e+00]\n",
      " [6.49527172e-01 1.07727954e+00 5.24252922e-01 1.49787521e-01\n",
      "  3.22323631e-01]\n",
      " [6.32206447e-01 5.17781948e-01 4.27829278e-01 1.01978880e+00\n",
      "  4.32326777e-03]\n",
      " [6.14885723e-01 1.86158622e-01 1.31914027e+00 7.61366196e-02\n",
      "  7.64257669e-01]\n",
      " [5.97564998e-01 9.11292725e-01 9.42898996e-01 1.36502740e+00\n",
      "  9.07405869e-01]\n",
      " [5.80244274e-01 1.34917564e+00 9.02114765e-02 1.30518604e+00\n",
      "  8.68976822e-01]\n",
      " [5.62923549e-01 9.04082253e-02 5.91776482e-01 9.36931533e-01\n",
      "  1.19610408e-01]\n",
      " [5.45602824e-01 1.05509347e+00 2.86029801e-01 9.00106083e-01\n",
      "  9.37188380e-01]\n",
      " [5.28282100e-01 8.14549794e-01 1.39341619e+00 1.54390703e-01\n",
      "  1.59048218e+00]\n",
      " [5.10961375e-01 6.07869059e-01 4.95352838e-01 3.74975153e-01\n",
      "  8.21901240e-01]\n",
      " [4.93640651e-01 4.34876116e-01 6.05281194e-01 5.27524584e-02\n",
      "  3.11755643e-01]\n",
      " [4.76319926e-01 1.40405696e+00 6.57409383e-01 5.18042030e-01\n",
      "  1.00347849e+00]\n",
      " [4.58999202e-01 2.06009314e-01 1.18598381e+00 3.43397329e-02\n",
      "  5.80758971e-01]\n",
      " [4.41678477e-01 7.74848409e-01 9.02114765e-02 8.03439274e-01\n",
      "  5.72112435e-01]\n",
      " [4.24357752e-01 1.51965805e+00 1.37991148e+00 2.70878810e+00\n",
      "  1.02269301e+00]\n",
      " [4.07037028e-01 1.39588315e+00 1.46283041e+00 4.53597491e-01\n",
      "  1.36855443e+00]\n",
      " [3.89716303e-01 3.09933525e-01 3.53553362e-01 7.52804279e-01\n",
      "  3.41057791e-02]\n",
      " [3.72395579e-01 1.65394214e+00 4.48086346e-01 9.73756984e-01\n",
      "  1.67598681e+00]\n",
      " [3.55074854e-01 3.62479475e-01 1.05093669e+00 3.43121138e-01\n",
      "  5.80758971e-01]\n",
      " [3.37754129e-01 8.24883830e-01 2.32010953e-01 3.79946589e-01\n",
      "  4.27042783e-01]\n",
      " [3.20433405e-01 1.08311798e+00 1.29402151e+00 2.92117889e-01\n",
      "  3.30970166e-01]\n",
      " [3.03112680e-01 8.37728396e-01 2.00139833e-01 8.95779092e-02\n",
      "  5.23115400e-01]\n",
      " [2.85791956e-01 9.18298852e-01 1.43393033e+00 2.32276531e-01\n",
      "  8.11813615e-02]\n",
      " [2.68471231e-01 7.76016097e-01 1.33264499e+00 1.49419267e-01\n",
      "  1.47519504e+00]\n",
      " [2.51150506e-01 5.38975481e-01 3.28434597e-01 1.61783412e+00\n",
      "  2.26251013e-01]\n",
      " [2.33829782e-01 8.26051518e-01 2.86029801e-01 6.69947015e-01\n",
      "  3.88613736e-01]\n",
      " [2.16509057e-01 4.24366926e-01 1.17058844e+00 1.50275459e+00\n",
      "  3.79967201e-01]\n",
      " [1.99188333e-01 6.85928986e-01 1.50982681e-01 1.97227908e+00\n",
      "  2.15683025e-01]\n",
      " [1.81867608e-01 4.34876116e-01 1.65675807e+00 9.59579186e-01\n",
      "  5.14468865e-01]\n",
      " [1.64546884e-01 1.48792614e-01 1.24000266e+00 9.78360166e-01\n",
      "  5.42329924e-01]\n",
      " [1.47226159e-01 1.38303858e+00 1.46958277e+00 1.12593816e-01\n",
      "  1.29169634e+00]\n",
      " [1.29905434e-01 8.25058983e-01 6.91171163e-01 1.30942097e+00\n",
      "  1.03326100e+00]\n",
      " [1.12584710e-01 1.21273132e+00 8.93741844e-01 1.92164409e+00\n",
      "  1.57126765e+00]\n",
      " [9.52639852e-02 4.62900623e-01 6.25538262e-01 9.04709264e-01\n",
      "  4.84686354e-01]\n",
      " [7.79432606e-02 1.89836839e-01 5.62876398e-01 1.02862691e+00\n",
      "  5.52897912e-01]\n",
      " [6.06225361e-02 5.90353742e-01 1.33453565e+00 1.13486833e+00\n",
      "  4.46257307e-01]\n",
      " [4.33018115e-02 4.42057396e-01 1.52873340e-01 3.93756133e-01\n",
      "  2.83894584e-01]\n",
      " [2.59810869e-02 1.66579418e+00 1.28537849e+00 9.50372823e-01\n",
      "  2.18613240e+00]\n",
      " [8.66036229e-03 1.38283424e-01 1.24486436e+00 7.06404211e-01\n",
      "  6.10541482e-01]\n",
      " [8.66036229e-03 8.79940308e-01 1.28051680e+00 8.85928284e-01\n",
      "  4.46257307e-01]\n",
      " [2.59810869e-02 1.74402926e+00 8.80237132e-01 3.23815396e+00\n",
      "  1.87870003e+00]\n",
      " [4.33018115e-02 1.55486384e+00 8.88880147e-01 4.21375221e-01\n",
      "  1.49392920e-01]\n",
      " [6.06225361e-02 4.77088029e-01 4.09462869e-01 5.82486569e-01\n",
      "  1.30178396e-01]\n",
      " [7.79432606e-02 1.06443498e+00 7.45190011e-01 1.16248742e+00\n",
      "  1.28304980e+00]\n",
      " [9.52639852e-02 1.06755854e-01 1.56222509e+00 1.30942097e+00\n",
      "  9.94831951e-01]\n",
      " [1.12584710e-01 1.42507534e+00 8.28108943e-01 3.93111688e-02\n",
      "  1.31091086e+00]\n",
      " [1.29905434e-01 6.61407543e-01 1.55061104e+00 3.38517957e-01\n",
      "  1.02269301e+00]\n",
      " [1.47226159e-01 1.56403019e+00 1.54385868e+00 2.28041604e-01\n",
      "  1.67598681e+00]\n",
      " [1.64546884e-01 1.26527727e+00 2.45515665e-01 1.15328106e+00\n",
      "  1.11011909e+00]\n",
      " [1.81867608e-01 9.19641692e-01 1.01717491e+00 1.19434143e+00\n",
      "  1.19610408e-01]\n",
      " [1.99188333e-01 1.10530405e+00 9.95027184e-01 3.38517957e-01\n",
      "  1.49440956e+00]\n",
      " [2.16509057e-01 3.34630122e-01 5.31005278e-01 1.29597968e+00\n",
      "  1.48912557e-02]\n",
      " [2.33829782e-01 7.30476274e-01 1.79882765e-01 9.13915627e-01\n",
      "  3.60752677e-01]\n",
      " [2.51150506e-01 8.03865450e-01 1.58923451e+00 1.81641536e-01\n",
      "  1.10963873e-01]\n",
      " [2.68471231e-01 8.40063771e-01 7.92456503e-01 1.01942054e+00\n",
      "  2.73326596e-01]\n",
      " [2.85791956e-01 9.15759131e-02 6.05281194e-01 2.28041604e-01\n",
      "  3.50184689e-01]\n",
      " [3.03112680e-01 8.24883830e-01 1.51684926e+00 7.25185191e-01\n",
      "  8.88191346e-01]\n",
      " [3.20433405e-01 2.49213762e-01 9.20751268e-01 2.23926360e+00\n",
      "  3.60752677e-01]\n",
      " [3.37754129e-01 1.49046586e+00 4.90491142e-01 3.79946589e-01\n",
      "  1.42619800e+00]\n",
      " [3.55074854e-01 6.70544700e-02 2.38763309e-01 7.20213755e-01\n",
      "  2.83894584e-01]\n",
      " [3.72395579e-01 1.49747198e+00 1.05606848e-01 9.13547372e-01\n",
      "  1.34933991e+00]\n",
      " [3.89716303e-01 8.98623313e-01 1.40881156e+00 6.88359740e-01\n",
      "  4.65471830e-01]\n",
      " [4.07037028e-01 2.79573643e-01 7.65447079e-01 8.35661544e-01\n",
      "  2.26251013e-01]\n",
      " [4.24357752e-01 9.62846140e-01 6.10142891e-01 2.00910454e+00\n",
      "  1.09090457e+00]\n",
      " [4.41678477e-01 6.98773552e-01 7.74090095e-01 2.14232060e-01\n",
      "  6.57617064e-01]\n",
      " [4.58999202e-01 1.62591764e+00 1.05579839e+00 9.22753735e-01\n",
      "  1.42619800e+00]\n",
      " [4.76319926e-01 7.80511695e-01 1.57086811e+00 9.82963347e-01\n",
      "  1.00347849e+00]\n",
      " [4.93640651e-01 8.55418865e-01 1.73778635e+00 1.25915423e+00\n",
      "  2.05163074e+00]\n",
      " [5.10961375e-01 1.02105537e+00 7.60585383e-01 5.77515133e-01\n",
      "  8.30547775e-01]\n",
      " [5.28282100e-01 1.70882347e+00 1.10306488e+00 1.00597925e+00\n",
      "  2.38692417e+00]\n",
      " [5.45602824e-01 1.37971067e+00 1.37504978e+00 5.72911952e-01\n",
      "  2.54112072e-01]\n",
      " [5.62923549e-01 1.61891151e+00 2.65772733e-01 1.30978922e+00\n",
      "  1.59912871e+00]\n",
      " [5.80244274e-01 8.49580427e-01 6.91171163e-01 6.69578760e-01\n",
      "  1.07169004e+00]\n",
      " [5.97564998e-01 1.28612050e+00 1.03554132e+00 1.61323094e+00\n",
      "  6.19188018e-01]\n",
      " [6.14885723e-01 1.15300409e+00 1.60273923e+00 1.01518562e+00\n",
      "  4.65471830e-01]\n",
      " [6.32206447e-01 1.41806922e+00 1.06255074e+00 9.78360166e-01\n",
      "  8.68976822e-01]\n",
      " [6.49527172e-01 1.47896413e+00 3.80562786e-01 1.34164324e+00\n",
      "  1.30226433e+00]\n",
      " [6.66847897e-01 1.21489154e+00 1.77992105e-01 4.62803854e-01\n",
      "  8.49762299e-01]\n",
      " [6.84168621e-01 4.42057396e-01 1.39341619e+00 1.32820195e+00\n",
      "  1.28304980e+00]\n",
      " [7.01489346e-01 8.59914463e-01 4.22967582e-01 8.12645637e-01\n",
      "  5.99973494e-01]\n",
      " [7.18810070e-01 5.44813920e-01 8.19465927e-01 2.07354907e+00\n",
      "  9.94831951e-01]\n",
      " [7.36130795e-01 8.57754241e-01 6.70914095e-01 3.38149702e-01\n",
      "  1.16776266e+00]\n",
      " [7.53451519e-01 4.95595880e-01 1.18598381e+00 1.77038355e-01\n",
      "  6.96046111e-01]\n",
      " [7.70772244e-01 5.93681653e-01 5.71519414e-01 3.84181516e-01\n",
      "  5.03900877e-01]\n",
      " [7.88092969e-01 7.87313476e-02 1.44257334e+00 9.92169710e-01\n",
      "  7.15260635e-01]\n",
      " [8.05413693e-01 1.08662104e+00 1.07794612e+00 1.00597925e+00\n",
      "  1.58039455e-01]\n",
      " [8.22734418e-01 1.12281936e+00 1.73778635e+00 6.32753309e-01\n",
      "  2.18613240e+00]\n",
      " [8.40055142e-01 1.27327593e+00 1.15033137e+00 8.58677450e-01\n",
      "  5.99973494e-01]\n",
      " [8.57375867e-01 1.19504085e+00 1.71239749e-01 4.58200672e-01\n",
      "  7.53689682e-01]\n",
      " [8.74696592e-01 1.56070228e+00 6.32290618e-01 2.96721070e-01\n",
      "  3.99181724e-01]\n",
      " [8.92017316e-01 3.04095087e-01 1.00367020e+00 8.35293289e-01\n",
      "  4.65471830e-01]\n",
      " [9.09338041e-01 5.90353742e-01 2.43084817e-03 7.52804279e-01\n",
      "  4.95254341e-01]\n",
      " [9.26658765e-01 2.83251860e-01 1.10981724e+00 3.28943340e-01\n",
      "  9.56402904e-01]\n",
      " [9.43979490e-01 4.75920341e-01 1.46120984e-01 9.69153803e-01\n",
      "  3.03109107e-01]\n",
      " [9.61300215e-01 1.66912209e+00 7.87594807e-01 1.14407469e+00\n",
      "  2.07949180e+00]\n",
      " [9.78620939e-01 6.20538471e-01 1.36640677e+00 9.18150553e-01\n",
      "  2.45465537e-01]\n",
      " [9.95941664e-01 3.21989902e-02 1.48308748e+00 2.87882962e-01\n",
      "  7.53689682e-01]\n",
      " [1.01326239e+00 1.58037782e+00 9.20751268e-01 6.74181942e-01\n",
      "  1.29169634e+00]\n",
      " [1.03058311e+00 1.79152496e-01 3.28434597e-01 1.86244718e-01\n",
      "  2.15683025e-01]\n",
      " [1.04790384e+00 2.97264113e-01 3.48691665e-01 6.72064478e-03\n",
      "  7.25348259e-02]\n",
      " [1.06522456e+00 7.16288868e-01 8.46475352e-01 8.62912377e-01\n",
      "  1.38824932e-01]\n",
      " [1.08254529e+00 4.82926468e-01 3.48691665e-01 2.28041604e-01\n",
      "  1.68607443e-01]\n",
      " [1.09986601e+00 1.92172214e-01 9.13998912e-01 1.06582061e+00\n",
      "  7.64257669e-01]\n",
      " [1.11718674e+00 3.48467222e-01 5.78271770e-01 1.15788424e+00\n",
      "  4.07828260e-01]\n",
      " [1.13450746e+00 1.02123053e+00 1.34128800e+00 2.49704176e+00\n",
      "  4.07828260e-01]\n",
      " [1.15182818e+00 1.50798117e+00 9.68017760e-01 4.12168859e-01\n",
      "  1.15719467e+00]\n",
      " [1.16914891e+00 6.97781017e-01 1.21974559e+00 5.13438849e-01\n",
      "  3.50184689e-01]\n",
      " [1.18646963e+00 7.98202165e-01 2.26879163e-02 1.24497643e+00\n",
      "  5.91326959e-01]\n",
      " [1.20379036e+00 1.60273904e+00 8.55118367e-01 1.11185242e+00\n",
      "  1.87821967e-01]\n",
      " [1.22111108e+00 1.13315340e+00 7.87594807e-01 5.59470662e-01\n",
      "  1.08033658e+00]\n",
      " [1.23843181e+00 2.03849092e-01 1.59625696e-01 7.75451931e-01\n",
      "  9.17493494e-02]\n",
      " [1.25575253e+00 1.48813048e+00 2.13644545e-01 6.23915201e-01\n",
      "  1.23405277e+00]\n",
      " [1.27307326e+00 2.49388915e-01 1.09145083e+00 8.17248818e-01\n",
      "  4.46257307e-01]\n",
      " [1.29039398e+00 8.79940308e-01 1.34128800e+00 8.03439274e-01\n",
      "  4.84686354e-01]\n",
      " [1.30771471e+00 1.51633014e+00 1.73103399e+00 5.17673775e-01\n",
      "  2.49356478e+00]\n",
      " [1.32503543e+00 1.18353913e+00 4.68343414e-01 4.72010216e-01\n",
      "  1.18697718e+00]\n",
      " [1.34235616e+00 2.70407294e-01 1.04418434e+00 2.13863806e-01\n",
      "  4.46257307e-01]\n",
      " [1.35967688e+00 1.51399477e+00 1.41556392e+00 3.15502050e-01\n",
      "  4.27042783e-01]\n",
      " [1.37699760e+00 2.16693657e-01 8.95632503e-01 5.96296113e-01\n",
      "  2.73326596e-01]\n",
      " [1.39431833e+00 1.11601758e-01 1.39530685e+00 1.02439198e+00\n",
      "  6.76831588e-01]\n",
      " [1.41163905e+00 8.34400486e-01 1.20624088e+00 1.45184340e-01\n",
      "  3.50184689e-01]\n",
      " [1.42895978e+00 1.06075676e+00 1.18598381e+00 3.93111688e-02\n",
      "  1.02269301e+00]\n",
      " [1.44628050e+00 1.64127273e+00 1.33264499e+00 1.89862818e+00\n",
      "  2.33984859e+00]\n",
      " [1.46360123e+00 1.24659427e+00 1.32616272e-01 2.55016247e-02\n",
      "  6.87399576e-01]\n",
      " [1.48092195e+00 6.76762637e-01 1.47444446e+00 5.04232486e-01\n",
      "  1.64812575e+00]\n",
      " [1.49824268e+00 8.80728498e-02 1.42906863e+00 1.82009791e-01\n",
      "  7.15260635e-01]\n",
      " [1.51556340e+00 5.14454038e-01 3.67058074e-01 5.68677025e-01\n",
      "  6.29756005e-01]\n",
      " [1.53288413e+00 1.62258973e+00 6.32290618e-01 1.23613832e+00\n",
      "  3.60752677e-01]\n",
      " [1.55020485e+00 1.49863967e+00 7.53833027e-01 3.29311594e-01\n",
      "  1.40698348e+00]\n",
      " [1.56752558e+00 1.25576062e+00 1.20435022e+00 1.13947151e+00\n",
      "  6.19188018e-01]\n",
      " [1.58484630e+00 8.35393020e-01 8.41613655e-01 1.13026515e+00\n",
      "  7.92118728e-01]\n",
      " [1.60216702e+00 1.51615499e+00 1.29402151e+00 4.81492770e-02\n",
      "  1.56069967e+00]\n",
      " [1.61948775e+00 2.30705910e-01 1.26512143e+00 1.24074150e+00\n",
      "  1.07169004e+00]\n",
      " [1.63680847e+00 3.10313024e-02 8.32970639e-01 1.13026515e+00\n",
      "  6.29756005e-01]\n",
      " [1.65412920e+00 1.27094056e+00 1.32103093e+00 7.71217005e-01\n",
      "  1.23405277e+00]\n",
      " [1.67144992e+00 6.17035408e-01 1.24000266e+00 1.03359834e+00\n",
      "  8.30547775e-01]\n",
      " [1.68877065e+00 3.49810063e-01 9.42898996e-01 1.11185242e+00\n",
      "  2.34897549e-01]\n",
      " [1.70609137e+00 1.59456522e+00 1.26512143e+00 1.64085003e+00\n",
      "  2.20534693e+00]\n",
      " [1.72341210e+00 9.93206022e-01 9.90165488e-01 1.00597925e+00\n",
      "  1.19610408e-01]]\n"
     ]
    }
   ],
   "source": [
    "from scipy import stats\n",
    "import numpy as np\n",
    "z = np.abs(stats.zscore(df))\n",
    "print(z)"
   ]
  },
  {
   "cell_type": "markdown",
   "metadata": {},
   "source": [
    "#using z score method remove the outlier"
   ]
  },
  {
   "cell_type": "code",
   "execution_count": 298,
   "metadata": {},
   "outputs": [
    {
     "name": "stdout",
     "output_type": "stream",
     "text": [
      "(array([ 16, 101], dtype=int64), array([3, 3], dtype=int64))\n"
     ]
    }
   ],
   "source": [
    "threshold = 3\n",
    "print(np.where(z > 3))"
   ]
  },
  {
   "cell_type": "code",
   "execution_count": 299,
   "metadata": {},
   "outputs": [],
   "source": [
    "#The first array contains the list of row numbers and second array respective column numbers"
   ]
  },
  {
   "cell_type": "code",
   "execution_count": 300,
   "metadata": {},
   "outputs": [],
   "source": [
    "data = data[(z < 3).all(axis=1)]"
   ]
  },
  {
   "cell_type": "code",
   "execution_count": 301,
   "metadata": {},
   "outputs": [
    {
     "name": "stdout",
     "output_type": "stream",
     "text": [
      "(200, 5)\n",
      "(198, 5)\n"
     ]
    }
   ],
   "source": [
    "print(df.shape)\n",
    "print(data.shape)"
   ]
  },
  {
   "cell_type": "code",
   "execution_count": 302,
   "metadata": {},
   "outputs": [],
   "source": [
    "#old data set has 200 row and new has 198 row"
   ]
  },
  {
   "cell_type": "code",
   "execution_count": 303,
   "metadata": {},
   "outputs": [
    {
     "name": "stdout",
     "output_type": "stream",
     "text": [
      "loss_percentage 1.0\n"
     ]
    }
   ],
   "source": [
    "loss_percentage=((200-198)/200)*100\n",
    "print(\"loss_percentage\",loss_percentage)"
   ]
  },
  {
   "cell_type": "markdown",
   "metadata": {},
   "source": [
    "#after removing outlier we lossing 1% of data"
   ]
  },
  {
   "cell_type": "code",
   "execution_count": 304,
   "metadata": {},
   "outputs": [
    {
     "data": {
      "image/png": "[encoded data removed]",
      "text/plain": [
       "<Figure size 360x360 with 3 Axes>"
      ]
     },
     "metadata": {
      "needs_background": "light"
     },
     "output_type": "display_data"
    }
   ],
   "source": [
    "fig, axs = plt.subplots(3, figsize = (5,5))\n",
    "plt1 = sns.boxplot(data['TV'], ax = axs[0])\n",
    "plt2 = sns.boxplot(data['newspaper'], ax = axs[1])\n",
    "plt3 = sns.boxplot(data['radio'], ax = axs[2])\n",
    "plt.tight_layout()"
   ]
  },
  {
   "cell_type": "markdown",
   "metadata": {},
   "source": [
    "after removing outlier there is no outlier present."
   ]
  },
  {
   "cell_type": "markdown",
   "metadata": {},
   "source": [
    "Univariate Analysis"
   ]
  },
  {
   "cell_type": "raw",
   "metadata": {},
   "source": [
    "Sales (Target Variable)"
   ]
  },
  {
   "cell_type": "code",
   "execution_count": 305,
   "metadata": {},
   "outputs": [
    {
     "data": {
      "image/png": "[encoded data removed]",
      "text/plain": [
       "<Figure size 432x288 with 1 Axes>"
      ]
     },
     "metadata": {
      "needs_background": "light"
     },
     "output_type": "display_data"
    }
   ],
   "source": [
    "sns.boxplot(df['sales'])\n",
    "plt.show()"
   ]
  },
  {
   "cell_type": "code",
   "execution_count": 306,
   "metadata": {},
   "outputs": [
    {
     "data": {
      "text/plain": [
       "<seaborn.axisgrid.PairGrid at 0x286cd917640>"
      ]
     },
     "execution_count": 306,
     "metadata": {},
     "output_type": "execute_result"
    },
    {
     "data": {
      "image/png": "[encoded data removed]",
      "text/plain": [
       "<Figure size 720x720 with 20 Axes>"
      ]
     },
     "metadata": {
      "needs_background": "light"
     },
     "output_type": "display_data"
    }
   ],
   "source": [
    "sns.pairplot(data.drop(\"Unnamed: 0\",axis=1))"
   ]
  },
  {
   "cell_type": "code",
   "execution_count": 307,
   "metadata": {},
   "outputs": [
    {
     "data": {
      "text/html": [
       "<div>\n",
       "<style scoped>\n",
       "    .dataframe tbody tr th:only-of-type {\n",
       "        vertical-align: middle;\n",
       "    }\n",
       "\n",
       "    .dataframe tbody tr th {\n",
       "        vertical-align: top;\n",
       "    }\n",
       "\n",
       "    .dataframe thead th {\n",
       "        text-align: right;\n",
       "    }\n",
       "</style>\n",
       "<table border=\"1\" class=\"dataframe\">\n",
       "  <thead>\n",
       "    <tr style=\"text-align: right;\">\n",
       "      <th></th>\n",
       "      <th>Unnamed: 0</th>\n",
       "      <th>TV</th>\n",
       "      <th>radio</th>\n",
       "      <th>newspaper</th>\n",
       "      <th>sales</th>\n",
       "    </tr>\n",
       "  </thead>\n",
       "  <tbody>\n",
       "    <tr>\n",
       "      <th>Unnamed: 0</th>\n",
       "      <td>1.000000</td>\n",
       "      <td>0.010991</td>\n",
       "      <td>-0.105193</td>\n",
       "      <td>-0.137040</td>\n",
       "      <td>-0.054703</td>\n",
       "    </tr>\n",
       "    <tr>\n",
       "      <th>TV</th>\n",
       "      <td>0.010991</td>\n",
       "      <td>1.000000</td>\n",
       "      <td>0.051978</td>\n",
       "      <td>0.049771</td>\n",
       "      <td>0.779121</td>\n",
       "    </tr>\n",
       "    <tr>\n",
       "      <th>radio</th>\n",
       "      <td>-0.105193</td>\n",
       "      <td>0.051978</td>\n",
       "      <td>1.000000</td>\n",
       "      <td>0.346364</td>\n",
       "      <td>0.576748</td>\n",
       "    </tr>\n",
       "    <tr>\n",
       "      <th>newspaper</th>\n",
       "      <td>-0.137040</td>\n",
       "      <td>0.049771</td>\n",
       "      <td>0.346364</td>\n",
       "      <td>1.000000</td>\n",
       "      <td>0.219555</td>\n",
       "    </tr>\n",
       "    <tr>\n",
       "      <th>sales</th>\n",
       "      <td>-0.054703</td>\n",
       "      <td>0.779121</td>\n",
       "      <td>0.576748</td>\n",
       "      <td>0.219555</td>\n",
       "      <td>1.000000</td>\n",
       "    </tr>\n",
       "  </tbody>\n",
       "</table>\n",
       "</div>"
      ],
      "text/plain": [
       "            Unnamed: 0        TV     radio  newspaper     sales\n",
       "Unnamed: 0    1.000000  0.010991 -0.105193  -0.137040 -0.054703\n",
       "TV            0.010991  1.000000  0.051978   0.049771  0.779121\n",
       "radio        -0.105193  0.051978  1.000000   0.346364  0.576748\n",
       "newspaper    -0.137040  0.049771  0.346364   1.000000  0.219555\n",
       "sales        -0.054703  0.779121  0.576748   0.219555  1.000000"
      ]
     },
     "execution_count": 307,
     "metadata": {},
     "output_type": "execute_result"
    }
   ],
   "source": [
    "#find the correlation\n",
    "cor=data.corr()\n",
    "cor"
   ]
  },
  {
   "cell_type": "code",
   "execution_count": 308,
   "metadata": {},
   "outputs": [
    {
     "ename": "SyntaxError",
     "evalue": "invalid syntax (<ipython-input-308-4d5a6feff1af>, line 1)",
     "output_type": "error",
     "traceback": [
      "\u001b[1;36m  File \u001b[1;32m\"<ipython-input-308-4d5a6feff1af>\"\u001b[1;36m, line \u001b[1;32m1\u001b[0m\n\u001b[1;33m    in correlation data TV and sales has highest which is 0.77\u001b[0m\n\u001b[1;37m    ^\u001b[0m\n\u001b[1;31mSyntaxError\u001b[0m\u001b[1;31m:\u001b[0m invalid syntax\n"
     ]
    }
   ],
   "source": [
    "in correlation data TV and sales has highest which is 0.77"
   ]
  },
  {
   "cell_type": "code",
   "execution_count": null,
   "metadata": {},
   "outputs": [],
   "source": [
    "#prepare heat map for correlation\n",
    "\n",
    "plt.subplots(figsize=(8,8))\n",
    "sns.heatmap(cor,annot=True,linewidth=0.1,linecolor=\"black\",cmap=\"YlGnBu\")"
   ]
  },
  {
   "cell_type": "markdown",
   "metadata": {},
   "source": [
    "As is visible from the pairplot and the heatmap, the variable TV seems to be most correlated with Sales. So let's go ahead and perform simple linear regression using TV as our feature variable."
   ]
  },
  {
   "cell_type": "markdown",
   "metadata": {},
   "source": [
    "Model Building\n",
    "Performing Simple Linear Regression"
   ]
  },
  {
   "cell_type": "code",
   "execution_count": null,
   "metadata": {},
   "outputs": [],
   "source": [
    "X =data.drop([\"sales\",\"Unnamed: 0\"],axis=1)\n",
    "y =data['sales']"
   ]
  },
  {
   "cell_type": "markdown",
   "metadata": {},
   "source": [
    "#separating the target and feature"
   ]
  },
  {
   "cell_type": "code",
   "execution_count": null,
   "metadata": {},
   "outputs": [],
   "source": [
    "scaler=StandardScaler()\n",
    "X_scaled=scaler.fit_transform(X)"
   ]
  },
  {
   "cell_type": "markdown",
   "metadata": {},
   "source": [
    "#apply standascalermethod for scale the data"
   ]
  },
  {
   "cell_type": "code",
   "execution_count": null,
   "metadata": {},
   "outputs": [],
   "source": [
    "X_train, X_test, y_train, y_test = train_test_split(X, y, train_size = 0.7, test_size = 0.3, random_state = 100)"
   ]
  },
  {
   "cell_type": "code",
   "execution_count": null,
   "metadata": {},
   "outputs": [],
   "source": [
    "# Let's now take a look at the train dataset\n",
    "\n",
    "X_train.head()"
   ]
  },
  {
   "cell_type": "code",
   "execution_count": null,
   "metadata": {},
   "outputs": [],
   "source": [
    "y_train.head()"
   ]
  },
  {
   "cell_type": "code",
   "execution_count": null,
   "metadata": {},
   "outputs": [],
   "source": [
    "regression=LinearRegression()"
   ]
  },
  {
   "cell_type": "code",
   "execution_count": null,
   "metadata": {},
   "outputs": [],
   "source": [
    "regression.fit(X_train,y_train)"
   ]
  },
  {
   "cell_type": "code",
   "execution_count": null,
   "metadata": {},
   "outputs": [],
   "source": [
    "regression.score(X_train,y_train)"
   ]
  },
  {
   "cell_type": "code",
   "execution_count": null,
   "metadata": {},
   "outputs": [],
   "source": [
    "regression.score(X_test,y_test)"
   ]
  },
  {
   "cell_type": "code",
   "execution_count": null,
   "metadata": {},
   "outputs": [],
   "source": [
    "y_pred = regression.predict(X_test)"
   ]
  },
  {
   "cell_type": "code",
   "execution_count": null,
   "metadata": {},
   "outputs": [],
   "source": [
    "r2_score(y_test,y_pred)"
   ]
  },
  {
   "cell_type": "markdown",
   "metadata": {},
   "source": [
    "after evaluating the LinearRegression model.test score and r2 score is same."
   ]
  },
  {
   "cell_type": "code",
   "execution_count": null,
   "metadata": {},
   "outputs": [],
   "source": [
    "for i in range(0,100):\n",
    "    X_train,X_test,y_train,y_test=train_test_split(X,y,test_size=0.2,random_state=i)\n",
    "    regression.fit(X_train,y_train)\n",
    "    pred_train=regression.predict(X_train)\n",
    "    pred_test=regression.predict(X_test)\n",
    "    print(f\" At random state {i},the training accuracy is :-{r2_score(y_train,pred_train)}\")\n",
    "    print(f\" At random state {i},the testing accuracy is :-{r2_score(y_test,pred_test)}\")\n",
    "    print(\"\\n\")"
   ]
  },
  {
   "cell_type": "code",
   "execution_count": null,
   "metadata": {},
   "outputs": [],
   "source": [
    "Train_accuracy=r2_score(y_train,pred_train)\n",
    "Test_accuracy=r2_score(y_test,pred_test)\n",
    "\n",
    "from sklearn.model_selection import cross_val_score\n",
    "for j in range(2,10):\n",
    "    cv_score=cross_val_score(regression,X,y,cv=j)\n",
    "    cv_mean=cv_score.mean()\n",
    "    print(f\"At cross fold {j} the cv score is {cv_mean} and accuracy score for training is {Train_accuracy} and accuracy for the testin is {Test_accuracy}\")\n",
    "    print(\"\\n\")"
   ]
  },
  {
   "cell_type": "code",
   "execution_count": null,
   "metadata": {},
   "outputs": [],
   "source": [
    "import matplotlib.pyplot as plt\n",
    "plt.figure(figsize=(8,6))\n",
    "plt.scatter(x=y_test,y=pred_test,color='r')\n",
    "plt.plot(y_test,y_test,color='b')\n",
    "plt.xlabel('Actual sales',fontsize=19)\n",
    "plt.ylabel('predicted sales',fontsize=19)\n",
    "plt.title('Linear Regression',fontsize=18)\n",
    "plt.show()"
   ]
  },
  {
   "cell_type": "markdown",
   "metadata": {},
   "source": [
    "best fit line covering most of the data point which show good fit of model"
   ]
  },
  {
   "cell_type": "markdown",
   "metadata": {},
   "source": [
    "Regularization:"
   ]
  },
  {
   "cell_type": "code",
   "execution_count": 309,
   "metadata": {},
   "outputs": [],
   "source": [
    "from sklearn.model_selection import GridSearchCV\n",
    "from sklearn.model_selection import cross_val_score\n",
    "import warnings\n",
    "warnings.filterwarnings('ignore')"
   ]
  },
  {
   "cell_type": "code",
   "execution_count": 310,
   "metadata": {},
   "outputs": [
    {
     "name": "stdout",
     "output_type": "stream",
     "text": [
      "{'alpha': 1, 'random_state': 0}\n"
     ]
    }
   ],
   "source": [
    "from sklearn.linear_model import Lasso\n",
    "\n",
    "parameters={'alpha' :[.0001,.001,.01,.1,1,10],'random_state':list(range(0,10))}\n",
    "ls=Lasso()\n",
    "clf=GridSearchCV(ls,parameters)\n",
    "clf.fit(X_train,y_train)\n",
    "\n",
    "print(clf.best_params_)"
   ]
  },
  {
   "cell_type": "code",
   "execution_count": 311,
   "metadata": {},
   "outputs": [
    {
     "data": {
      "text/plain": [
       "0.9300164738230503"
      ]
     },
     "execution_count": 311,
     "metadata": {},
     "output_type": "execute_result"
    }
   ],
   "source": [
    "ls=Lasso(alpha=0.001,random_state=0)\n",
    "ls.fit(X_train,y_train)\n",
    "ls.score(X_train,y_train)\n",
    "pred_ls=ls.predict(X_test)\n",
    "\n",
    "lss=r2_score(y_test,pred_ls)\n",
    "lss"
   ]
  },
  {
   "cell_type": "code",
   "execution_count": 312,
   "metadata": {},
   "outputs": [
    {
     "data": {
      "text/plain": [
       "0.8810485430282271"
      ]
     },
     "execution_count": 312,
     "metadata": {},
     "output_type": "execute_result"
    }
   ],
   "source": [
    "cv_score=cross_val_score(ls,X,y,cv=2)\n",
    "cv_score=cv_score.mean()\n",
    "cv_mean"
   ]
  },
  {
   "cell_type": "markdown",
   "metadata": {},
   "source": [
    "Ensemble technique:"
   ]
  },
  {
   "cell_type": "code",
   "execution_count": 313,
   "metadata": {},
   "outputs": [
    {
     "name": "stdout",
     "output_type": "stream",
     "text": [
      "{'criterion': 'mae', 'max_features': 'auto'}\n"
     ]
    }
   ],
   "source": [
    "from sklearn.model_selection import GridSearchCV\n",
    "from sklearn.ensemble import RandomForestClassifier\n",
    "from sklearn.ensemble import RandomForestRegressor\n",
    "\n",
    "parameters={'criterion':['mse','mae'],'max_features':[\"auto\",\"sqrt\",\"log2\"]}\n",
    "\n",
    "rf=RandomForestRegressor()\n",
    "clf=GridSearchCV(rf,parameters)\n",
    "clf.fit(X_train,y_train)\n",
    "\n",
    "print(clf.best_params_)"
   ]
  },
  {
   "cell_type": "code",
   "execution_count": 314,
   "metadata": {},
   "outputs": [
    {
     "name": "stdout",
     "output_type": "stream",
     "text": [
      "R2 Score: 98.01282019649425\n",
      "cross_val_score: 97.02485673396704\n"
     ]
    }
   ],
   "source": [
    "rf=RandomForestRegressor(criterion='mae',max_features=\"auto\")\n",
    "rf.fit(X_train,y_train)\n",
    "rf.score(X_train,y_train)\n",
    "pred_decision=rf.predict(X_test)\n",
    "\n",
    "rfs=r2_score(y_test,pred_decision)\n",
    "print('R2 Score:',rfs*100)\n",
    "\n",
    "rfscore=cross_val_score(rf,X,y,cv=2)\n",
    "rfc=rfscore.mean()\n",
    "print('cross_val_score:',rfc*100)\n"
   ]
  },
  {
   "cell_type": "markdown",
   "metadata": {},
   "source": [
    "save the model in sales.pk file"
   ]
  },
  {
   "cell_type": "code",
   "execution_count": 315,
   "metadata": {},
   "outputs": [],
   "source": [
    "#import bz2\n",
    "import pickle\n",
    "filename=\"Sales.pk1\"\n",
    "pickle.dump(rf,open(filename,'wb'))"
   ]
  },
  {
   "cell_type": "markdown",
   "metadata": {},
   "source": [
    "conclusion:"
   ]
  },
  {
   "cell_type": "code",
   "execution_count": 316,
   "metadata": {},
   "outputs": [
    {
     "name": "stdout",
     "output_type": "stream",
     "text": [
      "0.9801282019649424\n"
     ]
    }
   ],
   "source": [
    "loaded_model=pickle.load(open('Sales.pk1','rb'))\n",
    "result=loaded_model.score(X_test,y_test)\n",
    "print(result)"
   ]
  },
  {
   "cell_type": "code",
   "execution_count": 317,
   "metadata": {},
   "outputs": [],
   "source": [
    "conclusion=pd.DataFrame([loaded_model.predict(X_test)[:],pred_decision[:]],index=[\"predicted\",\"orginal\"])"
   ]
  },
  {
   "cell_type": "code",
   "execution_count": 318,
   "metadata": {},
   "outputs": [
    {
     "data": {
      "text/html": [
       "<div>\n",
       "<style scoped>\n",
       "    .dataframe tbody tr th:only-of-type {\n",
       "        vertical-align: middle;\n",
       "    }\n",
       "\n",
       "    .dataframe tbody tr th {\n",
       "        vertical-align: top;\n",
       "    }\n",
       "\n",
       "    .dataframe thead th {\n",
       "        text-align: right;\n",
       "    }\n",
       "</style>\n",
       "<table border=\"1\" class=\"dataframe\">\n",
       "  <thead>\n",
       "    <tr style=\"text-align: right;\">\n",
       "      <th></th>\n",
       "      <th>0</th>\n",
       "      <th>1</th>\n",
       "      <th>2</th>\n",
       "      <th>3</th>\n",
       "      <th>4</th>\n",
       "      <th>5</th>\n",
       "      <th>6</th>\n",
       "      <th>7</th>\n",
       "      <th>8</th>\n",
       "      <th>9</th>\n",
       "      <th>...</th>\n",
       "      <th>30</th>\n",
       "      <th>31</th>\n",
       "      <th>32</th>\n",
       "      <th>33</th>\n",
       "      <th>34</th>\n",
       "      <th>35</th>\n",
       "      <th>36</th>\n",
       "      <th>37</th>\n",
       "      <th>38</th>\n",
       "      <th>39</th>\n",
       "    </tr>\n",
       "  </thead>\n",
       "  <tbody>\n",
       "    <tr>\n",
       "      <th>predicted</th>\n",
       "      <td>12.241</td>\n",
       "      <td>7.162</td>\n",
       "      <td>11.289</td>\n",
       "      <td>8.167</td>\n",
       "      <td>9.879</td>\n",
       "      <td>11.738</td>\n",
       "      <td>11.455</td>\n",
       "      <td>12.833</td>\n",
       "      <td>21.184</td>\n",
       "      <td>20.606</td>\n",
       "      <td>...</td>\n",
       "      <td>14.202</td>\n",
       "      <td>18.451</td>\n",
       "      <td>14.776</td>\n",
       "      <td>14.397</td>\n",
       "      <td>14.828</td>\n",
       "      <td>11.7</td>\n",
       "      <td>8.372</td>\n",
       "      <td>23.993</td>\n",
       "      <td>23.548</td>\n",
       "      <td>20.143</td>\n",
       "    </tr>\n",
       "    <tr>\n",
       "      <th>orginal</th>\n",
       "      <td>12.241</td>\n",
       "      <td>7.162</td>\n",
       "      <td>11.289</td>\n",
       "      <td>8.167</td>\n",
       "      <td>9.879</td>\n",
       "      <td>11.738</td>\n",
       "      <td>11.455</td>\n",
       "      <td>12.833</td>\n",
       "      <td>21.184</td>\n",
       "      <td>20.606</td>\n",
       "      <td>...</td>\n",
       "      <td>14.202</td>\n",
       "      <td>18.451</td>\n",
       "      <td>14.776</td>\n",
       "      <td>14.397</td>\n",
       "      <td>14.828</td>\n",
       "      <td>11.7</td>\n",
       "      <td>8.372</td>\n",
       "      <td>23.993</td>\n",
       "      <td>23.548</td>\n",
       "      <td>20.143</td>\n",
       "    </tr>\n",
       "  </tbody>\n",
       "</table>\n",
       "<p>2 rows × 40 columns</p>\n",
       "</div>"
      ],
      "text/plain": [
       "               0      1       2      3      4       5       6       7   \\\n",
       "predicted  12.241  7.162  11.289  8.167  9.879  11.738  11.455  12.833   \n",
       "orginal    12.241  7.162  11.289  8.167  9.879  11.738  11.455  12.833   \n",
       "\n",
       "               8       9   ...      30      31      32      33      34    35  \\\n",
       "predicted  21.184  20.606  ...  14.202  18.451  14.776  14.397  14.828  11.7   \n",
       "orginal    21.184  20.606  ...  14.202  18.451  14.776  14.397  14.828  11.7   \n",
       "\n",
       "              36      37      38      39  \n",
       "predicted  8.372  23.993  23.548  20.143  \n",
       "orginal    8.372  23.993  23.548  20.143  \n",
       "\n",
       "[2 rows x 40 columns]"
      ]
     },
     "execution_count": 318,
     "metadata": {},
     "output_type": "execute_result"
    }
   ],
   "source": [
    "conclusion"
   ]
  },
  {
   "cell_type": "markdown",
   "metadata": {},
   "source": [
    "print the orinal and predicted sales."
   ]
  }
 ],
 "metadata": {
  "kernelspec": {
   "display_name": "Python 3",
   "language": "python",
   "name": "python3"
  },
  "language_info": {
   "codemirror_mode": {
    "name": "ipython",
    "version": 3
   },
   "file_extension": ".py",
   "mimetype": "text/x-python",
   "name": "python",
   "nbconvert_exporter": "python",
   "pygments_lexer": "ipython3",
   "version": "3.8.5"
  }
 },
 "nbformat": 4,
 "nbformat_minor": 4
}
